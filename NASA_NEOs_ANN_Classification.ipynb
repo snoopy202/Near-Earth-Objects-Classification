{
  "cells": [
    {
      "cell_type": "markdown",
      "id": "10f8ca13",
      "metadata": {
        "id": "10f8ca13"
      },
      "source": [
        "**<h1 align=center><font size = 5>Predictive Modeling of Near-Earth Objects using Artificial Neural Networks</font></h1>**\n",
        "\n",
        "<br>\n",
        "\n",
        "<img src=\"https://www.techexplorist.com/wp-content/uploads/2021/12/NASAs-Eyes-on-Asteroids.jpg\" alt=\"Techexplorist\">\n",
        "\n",
        "<small>Picture Source: <a href=\"https://www.techexplorist.com/wp-content/uploads/2021/12/NASAs-Eyes-on-Asteroids.jpg\">Techexplorist</a>\n",
        "\n",
        "<br>\n",
        "\n",
        "<h3><b>Near-Earth Objects - NEOs</b></h3>\n",
        "\n",
        "<p>Near-Earth Objects (NEOs) are a group of celestial objects, including asteroids and comets, whose orbits bring them into close proximity to Earth. These objects can potentially pose a risk to our planet due to their potential for collision. Understanding and tracking NEOs is an important part of planetary defense and space science.\n",
        "\n",
        "NASA provides access to data about NEOs through its publicly available API (Application Programming Interface) called the \"Near-Earth Object Web Service\" (NeoWs). This API allows researchers, developers, and the public to access information about NEOs, including their orbits, physical characteristics, and close approaches to Earth.</p>\n",
        "\n",
        "<br>\n",
        "\n",
        "<h3><b>About NEOs</b></h3>\n",
        "\n",
        "<p>NEOs could potentially hit our planet and, depending on their size, produce considerable damage. While the chance of a large object hitting Earth is very small, it would produce a great deal of destruction. NEOs thus merit active detection and tracking efforts.</p>\n",
        "\n",
        "The goal of SSA’s NEO Segment (SSA-NEO) is to:\n",
        "\n",
        "<ul>\n",
        "    <li>Become aware of the current and future position of NEOs relative to our planet.</li>\n",
        "    <li>Estimate the likelihood of Earth impacts.</li>\n",
        "    <li>Assess the consequences of any possible impact.</li>\n",
        "    <li>Develop NEO deflection methods.</li>\n",
        "</ul>\n",
        "\n",
        "<p>The NEO Segment observes NEOs, predicts their orbits, produces impact warnings when necessary and is involved in potential mitigation measures.</p>\n",
        "\n",
        "<br>\n",
        "\n",
        "<h3><b>Context</b></h3>\n",
        "\n",
        "<p>There is an infinite number of objects in the outer space. Some of them are\n",
        "closer than we think. Even though we might think that a distance of 70,000 Km\n",
        "can not potentially harm us, but at an astronomical scale, this is a very small\n",
        "distance and can disrupt many natural phenomena. These objects/asteroids can\n",
        "thus prove to be harmful. Hence, it is wise to know what is surrounding us and\n",
        "what can harm us amongst those. Thus, this dataset compiles the list of <b>NASA</b>\n",
        "certified asteroids that are classified as the nearest earth object.<p>\n",
        "\n",
        "<br>\n",
        "\n",
        "<b>License</b>\n",
        "    \n",
        "CC0: Public Domain\n",
        "\n",
        "<br>\n",
        "\n",
        "<h3><b>Sources</b></h3>\n",
        "<p>Sources related to Near-Earth Objects (NEOs):</p>\n",
        "<ul>\n",
        "  <li><a href=\"https://api.nasa.gov/\">NASA Open API</a></li>\n",
        "  <li><a href=\"https://cneos.jpl.nasa.gov/ca/\">NEO Earth Close Approaches</a></li>\n",
        "  <li><a href=\"https://www.jpl.nasa.gov/news/twenty-years-of-tracking-near-earth-objects\">NASA/JPL-Caltech</a></li>\n",
        "  <li><a href=\"https://www.esa.int/Safety_Security/Near-Earth_Objects_-_NEO_Segment#:~:text=Near%2DEarth%20objects%20(NEOs),than%2020%20000%20are%20NEOs.\">ESA Near-Earth Objects - NEO Segment</a></li>\n",
        "</ul>"
      ]
    },
    {
      "cell_type": "markdown",
      "id": "75ea2f34",
      "metadata": {
        "id": "75ea2f34"
      },
      "source": [
        "\n",
        "\n",
        "# **Objective for this Notebook**\n",
        "\n",
        "Within the scope of this project, a classification model was builded whether NEOs are dangerous or not, through data obtained from NASA.\n",
        "\n",
        "<div class=\"alert alert-block alert-info\" style=\"margin-top: 20px\">\n",
        "<li><a href=\"https://#library\">Importing Libraries</a></li>\n",
        "<li><a href=\"https://#data_preprocessing\">Data Preprocessing</a></li>\n",
        "<li><a href=\"https://#ann\">Building Artificial Neural Network Model for Classification</a></li>\n",
        "\n",
        "<br>\n",
        "<p></p>\n",
        "Estimated Time Needed: <strong>10 min</strong>\n",
        "</div>"
      ]
    },
    {
      "cell_type": "markdown",
      "id": "dd8e47b1",
      "metadata": {
        "id": "dd8e47b1"
      },
      "source": [
        "<a id=\"library\"></a>\n",
        "\n",
        "<h2 align=center><b>Importing Libraries</b></h2>"
      ]
    },
    {
      "cell_type": "code",
      "execution_count": 8,
      "id": "784bdf44",
      "metadata": {
        "id": "784bdf44"
      },
      "outputs": [],
      "source": [
        "import matplotlib.pyplot as plt\n",
        "import seaborn as sns\n",
        "import matplotlib.patheffects as path_effects\n",
        "import pandas as pd\n",
        "import keras\n",
        "from keras.models import Sequential\n",
        "from keras.layers import Dense, Dropout\n",
        "import time\n",
        "from sklearn.utils import resample\n",
        "import warnings\n",
        "warnings.filterwarnings('ignore')"
      ]
    },
    {
      "cell_type": "code",
      "execution_count": 9,
      "id": "0e8617bf",
      "metadata": {
        "id": "0e8617bf",
        "outputId": "01045f30-3444-46e8-d191-33c54ce741ac",
        "colab": {
          "base_uri": "https://localhost:8080/",
          "height": 35
        }
      },
      "outputs": [
        {
          "output_type": "execute_result",
          "data": {
            "text/plain": [
              "'2.15.0'"
            ],
            "application/vnd.google.colaboratory.intrinsic+json": {
              "type": "string"
            }
          },
          "metadata": {},
          "execution_count": 9
        }
      ],
      "source": [
        "keras.__version__"
      ]
    },
    {
      "cell_type": "code",
      "execution_count": 10,
      "id": "f89748b1",
      "metadata": {
        "id": "f89748b1",
        "outputId": "e5b9666e-059f-4734-b32f-0f38fff7638d",
        "colab": {
          "base_uri": "https://localhost:8080/",
          "height": 35
        }
      },
      "outputs": [
        {
          "output_type": "execute_result",
          "data": {
            "text/plain": [
              "'2.0.3'"
            ],
            "application/vnd.google.colaboratory.intrinsic+json": {
              "type": "string"
            }
          },
          "metadata": {},
          "execution_count": 10
        }
      ],
      "source": [
        "pd.__version__"
      ]
    },
    {
      "cell_type": "code",
      "execution_count": 11,
      "id": "531bdb01",
      "metadata": {
        "id": "531bdb01",
        "outputId": "5368ccfc-2427-48b4-c901-b7cfd4bfd0c2",
        "colab": {
          "base_uri": "https://localhost:8080/",
          "height": 35
        }
      },
      "outputs": [
        {
          "output_type": "execute_result",
          "data": {
            "text/plain": [
              "'0.13.1'"
            ],
            "application/vnd.google.colaboratory.intrinsic+json": {
              "type": "string"
            }
          },
          "metadata": {},
          "execution_count": 11
        }
      ],
      "source": [
        "sns.__version__"
      ]
    },
    {
      "cell_type": "markdown",
      "id": "9203185d",
      "metadata": {
        "id": "9203185d"
      },
      "source": [
        "<a id=\"data_preprocessing\"></a>\n",
        "\n",
        "<h2 align=center><b>Data Preprocessing</b></h2>\n",
        "\n",
        "<p>Data preprocessing can refer to manipulation or dropping of data before it is used in order to ensure or enhance performance, and is an important step in the data mining process. The phrase \"garbage in, garbage out\" is particularly applicable to data mining and machine learning projects.</p>"
      ]
    },
    {
      "cell_type": "markdown",
      "id": "1912d631",
      "metadata": {
        "id": "1912d631"
      },
      "source": [
        "### 2.1. Uploading data"
      ]
    },
    {
      "cell_type": "code",
      "execution_count": 12,
      "id": "a3fd6741",
      "metadata": {
        "id": "a3fd6741"
      },
      "outputs": [],
      "source": [
        "df = pd.read_csv('neo.csv')\n",
        "HAZARDOUS=df['hazardous']"
      ]
    },
    {
      "cell_type": "code",
      "execution_count": 13,
      "id": "429686da",
      "metadata": {
        "id": "429686da",
        "outputId": "db9001ca-0aa0-4f2b-ed24-e46a67b51321",
        "colab": {
          "base_uri": "https://localhost:8080/",
          "height": 432
        }
      },
      "outputs": [
        {
          "output_type": "execute_result",
          "data": {
            "text/plain": [
              "         id                 name  est_diameter_min  est_diameter_max  \\\n",
              "0   2162635  162635 (2000 SS164)          1.198271          2.679415   \n",
              "1   2277475    277475 (2005 WK4)          0.265800          0.594347   \n",
              "2   2512244   512244 (2015 YE18)          0.722030          1.614507   \n",
              "3   3596030          (2012 BV13)          0.096506          0.215794   \n",
              "4   3667127          (2014 GE35)          0.255009          0.570217   \n",
              "5  54138696          (2021 GY23)          0.036354          0.081291   \n",
              "6  54189957          (2021 PY40)          0.171615          0.383743   \n",
              "7  54230078           (2021 XD6)          0.005328          0.011914   \n",
              "8   2088213     88213 (2001 AF2)          0.350393          0.783502   \n",
              "9   3766065            (2016 YM)          0.105817          0.236614   \n",
              "\n",
              "   relative_velocity  miss_distance orbiting_body  sentry_object  \\\n",
              "0       13569.249224   5.483974e+07         Earth          False   \n",
              "1       73588.726663   6.143813e+07         Earth          False   \n",
              "2      114258.692129   4.979872e+07         Earth          False   \n",
              "3       24764.303138   2.543497e+07         Earth          False   \n",
              "4       42737.733765   4.627557e+07         Earth          False   \n",
              "5       34297.587778   4.058569e+07         Earth          False   \n",
              "6       27529.472307   2.906912e+07         Earth          False   \n",
              "7       57544.470083   5.511502e+07         Earth          False   \n",
              "8       56625.210122   6.903598e+07         Earth          False   \n",
              "9       48425.840329   3.835526e+07         Earth          False   \n",
              "\n",
              "   absolute_magnitude  hazardous  \n",
              "0               16.73      False  \n",
              "1               20.00       True  \n",
              "2               17.83      False  \n",
              "3               22.20      False  \n",
              "4               20.09       True  \n",
              "5               24.32      False  \n",
              "6               20.95      False  \n",
              "7               28.49      False  \n",
              "8               19.40      False  \n",
              "9               22.00      False  "
            ],
            "text/html": [
              "\n",
              "  <div id=\"df-5fa03020-abfb-447d-a4a5-4a0725939c12\" class=\"colab-df-container\">\n",
              "    <div>\n",
              "<style scoped>\n",
              "    .dataframe tbody tr th:only-of-type {\n",
              "        vertical-align: middle;\n",
              "    }\n",
              "\n",
              "    .dataframe tbody tr th {\n",
              "        vertical-align: top;\n",
              "    }\n",
              "\n",
              "    .dataframe thead th {\n",
              "        text-align: right;\n",
              "    }\n",
              "</style>\n",
              "<table border=\"1\" class=\"dataframe\">\n",
              "  <thead>\n",
              "    <tr style=\"text-align: right;\">\n",
              "      <th></th>\n",
              "      <th>id</th>\n",
              "      <th>name</th>\n",
              "      <th>est_diameter_min</th>\n",
              "      <th>est_diameter_max</th>\n",
              "      <th>relative_velocity</th>\n",
              "      <th>miss_distance</th>\n",
              "      <th>orbiting_body</th>\n",
              "      <th>sentry_object</th>\n",
              "      <th>absolute_magnitude</th>\n",
              "      <th>hazardous</th>\n",
              "    </tr>\n",
              "  </thead>\n",
              "  <tbody>\n",
              "    <tr>\n",
              "      <th>0</th>\n",
              "      <td>2162635</td>\n",
              "      <td>162635 (2000 SS164)</td>\n",
              "      <td>1.198271</td>\n",
              "      <td>2.679415</td>\n",
              "      <td>13569.249224</td>\n",
              "      <td>5.483974e+07</td>\n",
              "      <td>Earth</td>\n",
              "      <td>False</td>\n",
              "      <td>16.73</td>\n",
              "      <td>False</td>\n",
              "    </tr>\n",
              "    <tr>\n",
              "      <th>1</th>\n",
              "      <td>2277475</td>\n",
              "      <td>277475 (2005 WK4)</td>\n",
              "      <td>0.265800</td>\n",
              "      <td>0.594347</td>\n",
              "      <td>73588.726663</td>\n",
              "      <td>6.143813e+07</td>\n",
              "      <td>Earth</td>\n",
              "      <td>False</td>\n",
              "      <td>20.00</td>\n",
              "      <td>True</td>\n",
              "    </tr>\n",
              "    <tr>\n",
              "      <th>2</th>\n",
              "      <td>2512244</td>\n",
              "      <td>512244 (2015 YE18)</td>\n",
              "      <td>0.722030</td>\n",
              "      <td>1.614507</td>\n",
              "      <td>114258.692129</td>\n",
              "      <td>4.979872e+07</td>\n",
              "      <td>Earth</td>\n",
              "      <td>False</td>\n",
              "      <td>17.83</td>\n",
              "      <td>False</td>\n",
              "    </tr>\n",
              "    <tr>\n",
              "      <th>3</th>\n",
              "      <td>3596030</td>\n",
              "      <td>(2012 BV13)</td>\n",
              "      <td>0.096506</td>\n",
              "      <td>0.215794</td>\n",
              "      <td>24764.303138</td>\n",
              "      <td>2.543497e+07</td>\n",
              "      <td>Earth</td>\n",
              "      <td>False</td>\n",
              "      <td>22.20</td>\n",
              "      <td>False</td>\n",
              "    </tr>\n",
              "    <tr>\n",
              "      <th>4</th>\n",
              "      <td>3667127</td>\n",
              "      <td>(2014 GE35)</td>\n",
              "      <td>0.255009</td>\n",
              "      <td>0.570217</td>\n",
              "      <td>42737.733765</td>\n",
              "      <td>4.627557e+07</td>\n",
              "      <td>Earth</td>\n",
              "      <td>False</td>\n",
              "      <td>20.09</td>\n",
              "      <td>True</td>\n",
              "    </tr>\n",
              "    <tr>\n",
              "      <th>5</th>\n",
              "      <td>54138696</td>\n",
              "      <td>(2021 GY23)</td>\n",
              "      <td>0.036354</td>\n",
              "      <td>0.081291</td>\n",
              "      <td>34297.587778</td>\n",
              "      <td>4.058569e+07</td>\n",
              "      <td>Earth</td>\n",
              "      <td>False</td>\n",
              "      <td>24.32</td>\n",
              "      <td>False</td>\n",
              "    </tr>\n",
              "    <tr>\n",
              "      <th>6</th>\n",
              "      <td>54189957</td>\n",
              "      <td>(2021 PY40)</td>\n",
              "      <td>0.171615</td>\n",
              "      <td>0.383743</td>\n",
              "      <td>27529.472307</td>\n",
              "      <td>2.906912e+07</td>\n",
              "      <td>Earth</td>\n",
              "      <td>False</td>\n",
              "      <td>20.95</td>\n",
              "      <td>False</td>\n",
              "    </tr>\n",
              "    <tr>\n",
              "      <th>7</th>\n",
              "      <td>54230078</td>\n",
              "      <td>(2021 XD6)</td>\n",
              "      <td>0.005328</td>\n",
              "      <td>0.011914</td>\n",
              "      <td>57544.470083</td>\n",
              "      <td>5.511502e+07</td>\n",
              "      <td>Earth</td>\n",
              "      <td>False</td>\n",
              "      <td>28.49</td>\n",
              "      <td>False</td>\n",
              "    </tr>\n",
              "    <tr>\n",
              "      <th>8</th>\n",
              "      <td>2088213</td>\n",
              "      <td>88213 (2001 AF2)</td>\n",
              "      <td>0.350393</td>\n",
              "      <td>0.783502</td>\n",
              "      <td>56625.210122</td>\n",
              "      <td>6.903598e+07</td>\n",
              "      <td>Earth</td>\n",
              "      <td>False</td>\n",
              "      <td>19.40</td>\n",
              "      <td>False</td>\n",
              "    </tr>\n",
              "    <tr>\n",
              "      <th>9</th>\n",
              "      <td>3766065</td>\n",
              "      <td>(2016 YM)</td>\n",
              "      <td>0.105817</td>\n",
              "      <td>0.236614</td>\n",
              "      <td>48425.840329</td>\n",
              "      <td>3.835526e+07</td>\n",
              "      <td>Earth</td>\n",
              "      <td>False</td>\n",
              "      <td>22.00</td>\n",
              "      <td>False</td>\n",
              "    </tr>\n",
              "  </tbody>\n",
              "</table>\n",
              "</div>\n",
              "    <div class=\"colab-df-buttons\">\n",
              "\n",
              "  <div class=\"colab-df-container\">\n",
              "    <button class=\"colab-df-convert\" onclick=\"convertToInteractive('df-5fa03020-abfb-447d-a4a5-4a0725939c12')\"\n",
              "            title=\"Convert this dataframe to an interactive table.\"\n",
              "            style=\"display:none;\">\n",
              "\n",
              "  <svg xmlns=\"http://www.w3.org/2000/svg\" height=\"24px\" viewBox=\"0 -960 960 960\">\n",
              "    <path d=\"M120-120v-720h720v720H120Zm60-500h600v-160H180v160Zm220 220h160v-160H400v160Zm0 220h160v-160H400v160ZM180-400h160v-160H180v160Zm440 0h160v-160H620v160ZM180-180h160v-160H180v160Zm440 0h160v-160H620v160Z\"/>\n",
              "  </svg>\n",
              "    </button>\n",
              "\n",
              "  <style>\n",
              "    .colab-df-container {\n",
              "      display:flex;\n",
              "      gap: 12px;\n",
              "    }\n",
              "\n",
              "    .colab-df-convert {\n",
              "      background-color: #E8F0FE;\n",
              "      border: none;\n",
              "      border-radius: 50%;\n",
              "      cursor: pointer;\n",
              "      display: none;\n",
              "      fill: #1967D2;\n",
              "      height: 32px;\n",
              "      padding: 0 0 0 0;\n",
              "      width: 32px;\n",
              "    }\n",
              "\n",
              "    .colab-df-convert:hover {\n",
              "      background-color: #E2EBFA;\n",
              "      box-shadow: 0px 1px 2px rgba(60, 64, 67, 0.3), 0px 1px 3px 1px rgba(60, 64, 67, 0.15);\n",
              "      fill: #174EA6;\n",
              "    }\n",
              "\n",
              "    .colab-df-buttons div {\n",
              "      margin-bottom: 4px;\n",
              "    }\n",
              "\n",
              "    [theme=dark] .colab-df-convert {\n",
              "      background-color: #3B4455;\n",
              "      fill: #D2E3FC;\n",
              "    }\n",
              "\n",
              "    [theme=dark] .colab-df-convert:hover {\n",
              "      background-color: #434B5C;\n",
              "      box-shadow: 0px 1px 3px 1px rgba(0, 0, 0, 0.15);\n",
              "      filter: drop-shadow(0px 1px 2px rgba(0, 0, 0, 0.3));\n",
              "      fill: #FFFFFF;\n",
              "    }\n",
              "  </style>\n",
              "\n",
              "    <script>\n",
              "      const buttonEl =\n",
              "        document.querySelector('#df-5fa03020-abfb-447d-a4a5-4a0725939c12 button.colab-df-convert');\n",
              "      buttonEl.style.display =\n",
              "        google.colab.kernel.accessAllowed ? 'block' : 'none';\n",
              "\n",
              "      async function convertToInteractive(key) {\n",
              "        const element = document.querySelector('#df-5fa03020-abfb-447d-a4a5-4a0725939c12');\n",
              "        const dataTable =\n",
              "          await google.colab.kernel.invokeFunction('convertToInteractive',\n",
              "                                                    [key], {});\n",
              "        if (!dataTable) return;\n",
              "\n",
              "        const docLinkHtml = 'Like what you see? Visit the ' +\n",
              "          '<a target=\"_blank\" href=https://colab.research.google.com/notebooks/data_table.ipynb>data table notebook</a>'\n",
              "          + ' to learn more about interactive tables.';\n",
              "        element.innerHTML = '';\n",
              "        dataTable['output_type'] = 'display_data';\n",
              "        await google.colab.output.renderOutput(dataTable, element);\n",
              "        const docLink = document.createElement('div');\n",
              "        docLink.innerHTML = docLinkHtml;\n",
              "        element.appendChild(docLink);\n",
              "      }\n",
              "    </script>\n",
              "  </div>\n",
              "\n",
              "\n",
              "<div id=\"df-b6f31d6f-8643-4a87-9f48-279355421e8f\">\n",
              "  <button class=\"colab-df-quickchart\" onclick=\"quickchart('df-b6f31d6f-8643-4a87-9f48-279355421e8f')\"\n",
              "            title=\"Suggest charts\"\n",
              "            style=\"display:none;\">\n",
              "\n",
              "<svg xmlns=\"http://www.w3.org/2000/svg\" height=\"24px\"viewBox=\"0 0 24 24\"\n",
              "     width=\"24px\">\n",
              "    <g>\n",
              "        <path d=\"M19 3H5c-1.1 0-2 .9-2 2v14c0 1.1.9 2 2 2h14c1.1 0 2-.9 2-2V5c0-1.1-.9-2-2-2zM9 17H7v-7h2v7zm4 0h-2V7h2v10zm4 0h-2v-4h2v4z\"/>\n",
              "    </g>\n",
              "</svg>\n",
              "  </button>\n",
              "\n",
              "<style>\n",
              "  .colab-df-quickchart {\n",
              "      --bg-color: #E8F0FE;\n",
              "      --fill-color: #1967D2;\n",
              "      --hover-bg-color: #E2EBFA;\n",
              "      --hover-fill-color: #174EA6;\n",
              "      --disabled-fill-color: #AAA;\n",
              "      --disabled-bg-color: #DDD;\n",
              "  }\n",
              "\n",
              "  [theme=dark] .colab-df-quickchart {\n",
              "      --bg-color: #3B4455;\n",
              "      --fill-color: #D2E3FC;\n",
              "      --hover-bg-color: #434B5C;\n",
              "      --hover-fill-color: #FFFFFF;\n",
              "      --disabled-bg-color: #3B4455;\n",
              "      --disabled-fill-color: #666;\n",
              "  }\n",
              "\n",
              "  .colab-df-quickchart {\n",
              "    background-color: var(--bg-color);\n",
              "    border: none;\n",
              "    border-radius: 50%;\n",
              "    cursor: pointer;\n",
              "    display: none;\n",
              "    fill: var(--fill-color);\n",
              "    height: 32px;\n",
              "    padding: 0;\n",
              "    width: 32px;\n",
              "  }\n",
              "\n",
              "  .colab-df-quickchart:hover {\n",
              "    background-color: var(--hover-bg-color);\n",
              "    box-shadow: 0 1px 2px rgba(60, 64, 67, 0.3), 0 1px 3px 1px rgba(60, 64, 67, 0.15);\n",
              "    fill: var(--button-hover-fill-color);\n",
              "  }\n",
              "\n",
              "  .colab-df-quickchart-complete:disabled,\n",
              "  .colab-df-quickchart-complete:disabled:hover {\n",
              "    background-color: var(--disabled-bg-color);\n",
              "    fill: var(--disabled-fill-color);\n",
              "    box-shadow: none;\n",
              "  }\n",
              "\n",
              "  .colab-df-spinner {\n",
              "    border: 2px solid var(--fill-color);\n",
              "    border-color: transparent;\n",
              "    border-bottom-color: var(--fill-color);\n",
              "    animation:\n",
              "      spin 1s steps(1) infinite;\n",
              "  }\n",
              "\n",
              "  @keyframes spin {\n",
              "    0% {\n",
              "      border-color: transparent;\n",
              "      border-bottom-color: var(--fill-color);\n",
              "      border-left-color: var(--fill-color);\n",
              "    }\n",
              "    20% {\n",
              "      border-color: transparent;\n",
              "      border-left-color: var(--fill-color);\n",
              "      border-top-color: var(--fill-color);\n",
              "    }\n",
              "    30% {\n",
              "      border-color: transparent;\n",
              "      border-left-color: var(--fill-color);\n",
              "      border-top-color: var(--fill-color);\n",
              "      border-right-color: var(--fill-color);\n",
              "    }\n",
              "    40% {\n",
              "      border-color: transparent;\n",
              "      border-right-color: var(--fill-color);\n",
              "      border-top-color: var(--fill-color);\n",
              "    }\n",
              "    60% {\n",
              "      border-color: transparent;\n",
              "      border-right-color: var(--fill-color);\n",
              "    }\n",
              "    80% {\n",
              "      border-color: transparent;\n",
              "      border-right-color: var(--fill-color);\n",
              "      border-bottom-color: var(--fill-color);\n",
              "    }\n",
              "    90% {\n",
              "      border-color: transparent;\n",
              "      border-bottom-color: var(--fill-color);\n",
              "    }\n",
              "  }\n",
              "</style>\n",
              "\n",
              "  <script>\n",
              "    async function quickchart(key) {\n",
              "      const quickchartButtonEl =\n",
              "        document.querySelector('#' + key + ' button');\n",
              "      quickchartButtonEl.disabled = true;  // To prevent multiple clicks.\n",
              "      quickchartButtonEl.classList.add('colab-df-spinner');\n",
              "      try {\n",
              "        const charts = await google.colab.kernel.invokeFunction(\n",
              "            'suggestCharts', [key], {});\n",
              "      } catch (error) {\n",
              "        console.error('Error during call to suggestCharts:', error);\n",
              "      }\n",
              "      quickchartButtonEl.classList.remove('colab-df-spinner');\n",
              "      quickchartButtonEl.classList.add('colab-df-quickchart-complete');\n",
              "    }\n",
              "    (() => {\n",
              "      let quickchartButtonEl =\n",
              "        document.querySelector('#df-b6f31d6f-8643-4a87-9f48-279355421e8f button');\n",
              "      quickchartButtonEl.style.display =\n",
              "        google.colab.kernel.accessAllowed ? 'block' : 'none';\n",
              "    })();\n",
              "  </script>\n",
              "</div>\n",
              "\n",
              "    </div>\n",
              "  </div>\n"
            ],
            "application/vnd.google.colaboratory.intrinsic+json": {
              "type": "dataframe",
              "variable_name": "df",
              "summary": "{\n  \"name\": \"df\",\n  \"rows\": 90836,\n  \"fields\": [\n    {\n      \"column\": \"id\",\n      \"properties\": {\n        \"dtype\": \"number\",\n        \"std\": 20872018,\n        \"min\": 2000433,\n        \"max\": 54275914,\n        \"num_unique_values\": 27423,\n        \"samples\": [\n          3645263,\n          54100586,\n          3843212\n        ],\n        \"semantic_type\": \"\",\n        \"description\": \"\"\n      }\n    },\n    {\n      \"column\": \"name\",\n      \"properties\": {\n        \"dtype\": \"category\",\n        \"num_unique_values\": 27423,\n        \"samples\": [\n          \"(2013 PV6)\",\n          \"(2020 XY6)\",\n          \"(2019 NJ5)\"\n        ],\n        \"semantic_type\": \"\",\n        \"description\": \"\"\n      }\n    },\n    {\n      \"column\": \"est_diameter_min\",\n      \"properties\": {\n        \"dtype\": \"number\",\n        \"std\": 0.2985112435285911,\n        \"min\": 0.0006089126,\n        \"max\": 37.8926498379,\n        \"num_unique_values\": 1638,\n        \"samples\": [\n          0.0075605776,\n          0.0032400744,\n          0.0232570687\n        ],\n        \"semantic_type\": \"\",\n        \"description\": \"\"\n      }\n    },\n    {\n      \"column\": \"est_diameter_max\",\n      \"properties\": {\n        \"dtype\": \"number\",\n        \"std\": 0.6674914325765064,\n        \"min\": 0.00136157,\n        \"max\": 84.7305408852,\n        \"num_unique_values\": 1638,\n        \"samples\": [\n          0.0169059655,\n          0.0072450265,\n          0.0520043867\n        ],\n        \"semantic_type\": \"\",\n        \"description\": \"\"\n      }\n    },\n    {\n      \"column\": \"relative_velocity\",\n      \"properties\": {\n        \"dtype\": \"number\",\n        \"std\": 25293.296960671203,\n        \"min\": 203.34643253,\n        \"max\": 236990.1280878666,\n        \"num_unique_values\": 90828,\n        \"samples\": [\n          24899.9202994279,\n          80827.3431270144,\n          38059.3864424538\n        ],\n        \"semantic_type\": \"\",\n        \"description\": \"\"\n      }\n    },\n    {\n      \"column\": \"miss_distance\",\n      \"properties\": {\n        \"dtype\": \"number\",\n        \"std\": 22352040.599189546,\n        \"min\": 6745.532515957,\n        \"max\": 74798651.4521972,\n        \"num_unique_values\": 90536,\n        \"samples\": [\n          38764558.55056069,\n          36020594.80550471,\n          8344535.573958611\n        ],\n        \"semantic_type\": \"\",\n        \"description\": \"\"\n      }\n    },\n    {\n      \"column\": \"orbiting_body\",\n      \"properties\": {\n        \"dtype\": \"category\",\n        \"num_unique_values\": 1,\n        \"samples\": [\n          \"Earth\"\n        ],\n        \"semantic_type\": \"\",\n        \"description\": \"\"\n      }\n    },\n    {\n      \"column\": \"sentry_object\",\n      \"properties\": {\n        \"dtype\": \"boolean\",\n        \"num_unique_values\": 1,\n        \"samples\": [\n          false\n        ],\n        \"semantic_type\": \"\",\n        \"description\": \"\"\n      }\n    },\n    {\n      \"column\": \"absolute_magnitude\",\n      \"properties\": {\n        \"dtype\": \"number\",\n        \"std\": 2.89408550693204,\n        \"min\": 9.23,\n        \"max\": 33.2,\n        \"num_unique_values\": 1638,\n        \"samples\": [\n          27.73\n        ],\n        \"semantic_type\": \"\",\n        \"description\": \"\"\n      }\n    },\n    {\n      \"column\": \"hazardous\",\n      \"properties\": {\n        \"dtype\": \"boolean\",\n        \"num_unique_values\": 2,\n        \"samples\": [\n          true\n        ],\n        \"semantic_type\": \"\",\n        \"description\": \"\"\n      }\n    }\n  ]\n}"
            }
          },
          "metadata": {},
          "execution_count": 13
        }
      ],
      "source": [
        "df.head(10)"
      ]
    },
    {
      "cell_type": "code",
      "execution_count": 14,
      "id": "52ada76b",
      "metadata": {
        "id": "52ada76b",
        "outputId": "78645e34-27ea-4190-c502-b097cda41c7a",
        "colab": {
          "base_uri": "https://localhost:8080/"
        }
      },
      "outputs": [
        {
          "output_type": "execute_result",
          "data": {
            "text/plain": [
              "0        False\n",
              "1         True\n",
              "2        False\n",
              "3        False\n",
              "4         True\n",
              "         ...  \n",
              "90831    False\n",
              "90832    False\n",
              "90833    False\n",
              "90834    False\n",
              "90835    False\n",
              "Name: hazardous, Length: 90836, dtype: bool"
            ]
          },
          "metadata": {},
          "execution_count": 14
        }
      ],
      "source": [
        "HAZARDOUS"
      ]
    },
    {
      "cell_type": "markdown",
      "id": "4232869f",
      "metadata": {
        "id": "4232869f"
      },
      "source": [
        "### 2.2. Removing unnecessary columns\n",
        "\n",
        "<p>As we can see, there is only 1 unique value in <code>orbiting_body</code> and <code>sentry_object</code>. Because of that, we are dropping there columns. In addition, we don't need to use id and name parameters.</p>"
      ]
    },
    {
      "cell_type": "code",
      "execution_count": 15,
      "id": "982aea20",
      "metadata": {
        "id": "982aea20",
        "outputId": "74e79b42-0709-49a6-fc42-a6a654ebd1a1",
        "colab": {
          "base_uri": "https://localhost:8080/"
        }
      },
      "outputs": [
        {
          "output_type": "execute_result",
          "data": {
            "text/plain": [
              "orbiting_body\n",
              "Earth    90836\n",
              "Name: count, dtype: int64"
            ]
          },
          "metadata": {},
          "execution_count": 15
        }
      ],
      "source": [
        "df['orbiting_body'].value_counts()"
      ]
    },
    {
      "cell_type": "code",
      "execution_count": 16,
      "id": "37072dda",
      "metadata": {
        "id": "37072dda",
        "outputId": "6a2fe590-c852-4fc5-ecd6-47f250c8f122",
        "colab": {
          "base_uri": "https://localhost:8080/"
        }
      },
      "outputs": [
        {
          "output_type": "execute_result",
          "data": {
            "text/plain": [
              "sentry_object\n",
              "False    90836\n",
              "Name: count, dtype: int64"
            ]
          },
          "metadata": {},
          "execution_count": 16
        }
      ],
      "source": [
        "df['sentry_object'].value_counts()"
      ]
    },
    {
      "cell_type": "code",
      "execution_count": 17,
      "id": "a47ba48f",
      "metadata": {
        "id": "a47ba48f"
      },
      "outputs": [],
      "source": [
        "df.drop(['orbiting_body', 'sentry_object', 'id', 'name'], axis = 1, inplace = True)"
      ]
    },
    {
      "cell_type": "markdown",
      "id": "deb76d22",
      "metadata": {
        "id": "deb76d22"
      },
      "source": [
        "### 2.3. Looking for anomalies and duplicated datas\n",
        "\n",
        "<p>Dependent and independent variables, in other words, the data in the columns are checked for unspecified values.</p>"
      ]
    },
    {
      "cell_type": "code",
      "execution_count": 18,
      "id": "011e0c46",
      "metadata": {
        "id": "011e0c46",
        "outputId": "928597a4-278f-4898-fdf2-7b69c2b21f3f",
        "colab": {
          "base_uri": "https://localhost:8080/"
        }
      },
      "outputs": [
        {
          "output_type": "execute_result",
          "data": {
            "text/plain": [
              "est_diameter_min      0\n",
              "est_diameter_max      0\n",
              "relative_velocity     0\n",
              "miss_distance         0\n",
              "absolute_magnitude    0\n",
              "hazardous             0\n",
              "dtype: int64"
            ]
          },
          "metadata": {},
          "execution_count": 18
        }
      ],
      "source": [
        "df.isnull().sum()"
      ]
    },
    {
      "cell_type": "markdown",
      "id": "747c5cd2",
      "metadata": {
        "id": "747c5cd2"
      },
      "source": [
        "Let's get first and last 10 rows."
      ]
    },
    {
      "cell_type": "code",
      "execution_count": 19,
      "id": "0f426798",
      "metadata": {
        "id": "0f426798",
        "outputId": "0e56e5da-90f7-432e-a2b6-5a894396ceb8",
        "colab": {
          "base_uri": "https://localhost:8080/",
          "height": 363
        }
      },
      "outputs": [
        {
          "output_type": "execute_result",
          "data": {
            "text/plain": [
              "   est_diameter_min  est_diameter_max  relative_velocity  miss_distance  \\\n",
              "0          1.198271          2.679415       13569.249224   5.483974e+07   \n",
              "1          0.265800          0.594347       73588.726663   6.143813e+07   \n",
              "2          0.722030          1.614507      114258.692129   4.979872e+07   \n",
              "3          0.096506          0.215794       24764.303138   2.543497e+07   \n",
              "4          0.255009          0.570217       42737.733765   4.627557e+07   \n",
              "5          0.036354          0.081291       34297.587778   4.058569e+07   \n",
              "6          0.171615          0.383743       27529.472307   2.906912e+07   \n",
              "7          0.005328          0.011914       57544.470083   5.511502e+07   \n",
              "8          0.350393          0.783502       56625.210122   6.903598e+07   \n",
              "9          0.105817          0.236614       48425.840329   3.835526e+07   \n",
              "\n",
              "   absolute_magnitude  hazardous  \n",
              "0               16.73      False  \n",
              "1               20.00       True  \n",
              "2               17.83      False  \n",
              "3               22.20      False  \n",
              "4               20.09       True  \n",
              "5               24.32      False  \n",
              "6               20.95      False  \n",
              "7               28.49      False  \n",
              "8               19.40      False  \n",
              "9               22.00      False  "
            ],
            "text/html": [
              "\n",
              "  <div id=\"df-f90b956b-a00a-4ca2-a076-a6436ee6c1df\" class=\"colab-df-container\">\n",
              "    <div>\n",
              "<style scoped>\n",
              "    .dataframe tbody tr th:only-of-type {\n",
              "        vertical-align: middle;\n",
              "    }\n",
              "\n",
              "    .dataframe tbody tr th {\n",
              "        vertical-align: top;\n",
              "    }\n",
              "\n",
              "    .dataframe thead th {\n",
              "        text-align: right;\n",
              "    }\n",
              "</style>\n",
              "<table border=\"1\" class=\"dataframe\">\n",
              "  <thead>\n",
              "    <tr style=\"text-align: right;\">\n",
              "      <th></th>\n",
              "      <th>est_diameter_min</th>\n",
              "      <th>est_diameter_max</th>\n",
              "      <th>relative_velocity</th>\n",
              "      <th>miss_distance</th>\n",
              "      <th>absolute_magnitude</th>\n",
              "      <th>hazardous</th>\n",
              "    </tr>\n",
              "  </thead>\n",
              "  <tbody>\n",
              "    <tr>\n",
              "      <th>0</th>\n",
              "      <td>1.198271</td>\n",
              "      <td>2.679415</td>\n",
              "      <td>13569.249224</td>\n",
              "      <td>5.483974e+07</td>\n",
              "      <td>16.73</td>\n",
              "      <td>False</td>\n",
              "    </tr>\n",
              "    <tr>\n",
              "      <th>1</th>\n",
              "      <td>0.265800</td>\n",
              "      <td>0.594347</td>\n",
              "      <td>73588.726663</td>\n",
              "      <td>6.143813e+07</td>\n",
              "      <td>20.00</td>\n",
              "      <td>True</td>\n",
              "    </tr>\n",
              "    <tr>\n",
              "      <th>2</th>\n",
              "      <td>0.722030</td>\n",
              "      <td>1.614507</td>\n",
              "      <td>114258.692129</td>\n",
              "      <td>4.979872e+07</td>\n",
              "      <td>17.83</td>\n",
              "      <td>False</td>\n",
              "    </tr>\n",
              "    <tr>\n",
              "      <th>3</th>\n",
              "      <td>0.096506</td>\n",
              "      <td>0.215794</td>\n",
              "      <td>24764.303138</td>\n",
              "      <td>2.543497e+07</td>\n",
              "      <td>22.20</td>\n",
              "      <td>False</td>\n",
              "    </tr>\n",
              "    <tr>\n",
              "      <th>4</th>\n",
              "      <td>0.255009</td>\n",
              "      <td>0.570217</td>\n",
              "      <td>42737.733765</td>\n",
              "      <td>4.627557e+07</td>\n",
              "      <td>20.09</td>\n",
              "      <td>True</td>\n",
              "    </tr>\n",
              "    <tr>\n",
              "      <th>5</th>\n",
              "      <td>0.036354</td>\n",
              "      <td>0.081291</td>\n",
              "      <td>34297.587778</td>\n",
              "      <td>4.058569e+07</td>\n",
              "      <td>24.32</td>\n",
              "      <td>False</td>\n",
              "    </tr>\n",
              "    <tr>\n",
              "      <th>6</th>\n",
              "      <td>0.171615</td>\n",
              "      <td>0.383743</td>\n",
              "      <td>27529.472307</td>\n",
              "      <td>2.906912e+07</td>\n",
              "      <td>20.95</td>\n",
              "      <td>False</td>\n",
              "    </tr>\n",
              "    <tr>\n",
              "      <th>7</th>\n",
              "      <td>0.005328</td>\n",
              "      <td>0.011914</td>\n",
              "      <td>57544.470083</td>\n",
              "      <td>5.511502e+07</td>\n",
              "      <td>28.49</td>\n",
              "      <td>False</td>\n",
              "    </tr>\n",
              "    <tr>\n",
              "      <th>8</th>\n",
              "      <td>0.350393</td>\n",
              "      <td>0.783502</td>\n",
              "      <td>56625.210122</td>\n",
              "      <td>6.903598e+07</td>\n",
              "      <td>19.40</td>\n",
              "      <td>False</td>\n",
              "    </tr>\n",
              "    <tr>\n",
              "      <th>9</th>\n",
              "      <td>0.105817</td>\n",
              "      <td>0.236614</td>\n",
              "      <td>48425.840329</td>\n",
              "      <td>3.835526e+07</td>\n",
              "      <td>22.00</td>\n",
              "      <td>False</td>\n",
              "    </tr>\n",
              "  </tbody>\n",
              "</table>\n",
              "</div>\n",
              "    <div class=\"colab-df-buttons\">\n",
              "\n",
              "  <div class=\"colab-df-container\">\n",
              "    <button class=\"colab-df-convert\" onclick=\"convertToInteractive('df-f90b956b-a00a-4ca2-a076-a6436ee6c1df')\"\n",
              "            title=\"Convert this dataframe to an interactive table.\"\n",
              "            style=\"display:none;\">\n",
              "\n",
              "  <svg xmlns=\"http://www.w3.org/2000/svg\" height=\"24px\" viewBox=\"0 -960 960 960\">\n",
              "    <path d=\"M120-120v-720h720v720H120Zm60-500h600v-160H180v160Zm220 220h160v-160H400v160Zm0 220h160v-160H400v160ZM180-400h160v-160H180v160Zm440 0h160v-160H620v160ZM180-180h160v-160H180v160Zm440 0h160v-160H620v160Z\"/>\n",
              "  </svg>\n",
              "    </button>\n",
              "\n",
              "  <style>\n",
              "    .colab-df-container {\n",
              "      display:flex;\n",
              "      gap: 12px;\n",
              "    }\n",
              "\n",
              "    .colab-df-convert {\n",
              "      background-color: #E8F0FE;\n",
              "      border: none;\n",
              "      border-radius: 50%;\n",
              "      cursor: pointer;\n",
              "      display: none;\n",
              "      fill: #1967D2;\n",
              "      height: 32px;\n",
              "      padding: 0 0 0 0;\n",
              "      width: 32px;\n",
              "    }\n",
              "\n",
              "    .colab-df-convert:hover {\n",
              "      background-color: #E2EBFA;\n",
              "      box-shadow: 0px 1px 2px rgba(60, 64, 67, 0.3), 0px 1px 3px 1px rgba(60, 64, 67, 0.15);\n",
              "      fill: #174EA6;\n",
              "    }\n",
              "\n",
              "    .colab-df-buttons div {\n",
              "      margin-bottom: 4px;\n",
              "    }\n",
              "\n",
              "    [theme=dark] .colab-df-convert {\n",
              "      background-color: #3B4455;\n",
              "      fill: #D2E3FC;\n",
              "    }\n",
              "\n",
              "    [theme=dark] .colab-df-convert:hover {\n",
              "      background-color: #434B5C;\n",
              "      box-shadow: 0px 1px 3px 1px rgba(0, 0, 0, 0.15);\n",
              "      filter: drop-shadow(0px 1px 2px rgba(0, 0, 0, 0.3));\n",
              "      fill: #FFFFFF;\n",
              "    }\n",
              "  </style>\n",
              "\n",
              "    <script>\n",
              "      const buttonEl =\n",
              "        document.querySelector('#df-f90b956b-a00a-4ca2-a076-a6436ee6c1df button.colab-df-convert');\n",
              "      buttonEl.style.display =\n",
              "        google.colab.kernel.accessAllowed ? 'block' : 'none';\n",
              "\n",
              "      async function convertToInteractive(key) {\n",
              "        const element = document.querySelector('#df-f90b956b-a00a-4ca2-a076-a6436ee6c1df');\n",
              "        const dataTable =\n",
              "          await google.colab.kernel.invokeFunction('convertToInteractive',\n",
              "                                                    [key], {});\n",
              "        if (!dataTable) return;\n",
              "\n",
              "        const docLinkHtml = 'Like what you see? Visit the ' +\n",
              "          '<a target=\"_blank\" href=https://colab.research.google.com/notebooks/data_table.ipynb>data table notebook</a>'\n",
              "          + ' to learn more about interactive tables.';\n",
              "        element.innerHTML = '';\n",
              "        dataTable['output_type'] = 'display_data';\n",
              "        await google.colab.output.renderOutput(dataTable, element);\n",
              "        const docLink = document.createElement('div');\n",
              "        docLink.innerHTML = docLinkHtml;\n",
              "        element.appendChild(docLink);\n",
              "      }\n",
              "    </script>\n",
              "  </div>\n",
              "\n",
              "\n",
              "<div id=\"df-dfa4c144-2595-4a09-a006-795718550c3d\">\n",
              "  <button class=\"colab-df-quickchart\" onclick=\"quickchart('df-dfa4c144-2595-4a09-a006-795718550c3d')\"\n",
              "            title=\"Suggest charts\"\n",
              "            style=\"display:none;\">\n",
              "\n",
              "<svg xmlns=\"http://www.w3.org/2000/svg\" height=\"24px\"viewBox=\"0 0 24 24\"\n",
              "     width=\"24px\">\n",
              "    <g>\n",
              "        <path d=\"M19 3H5c-1.1 0-2 .9-2 2v14c0 1.1.9 2 2 2h14c1.1 0 2-.9 2-2V5c0-1.1-.9-2-2-2zM9 17H7v-7h2v7zm4 0h-2V7h2v10zm4 0h-2v-4h2v4z\"/>\n",
              "    </g>\n",
              "</svg>\n",
              "  </button>\n",
              "\n",
              "<style>\n",
              "  .colab-df-quickchart {\n",
              "      --bg-color: #E8F0FE;\n",
              "      --fill-color: #1967D2;\n",
              "      --hover-bg-color: #E2EBFA;\n",
              "      --hover-fill-color: #174EA6;\n",
              "      --disabled-fill-color: #AAA;\n",
              "      --disabled-bg-color: #DDD;\n",
              "  }\n",
              "\n",
              "  [theme=dark] .colab-df-quickchart {\n",
              "      --bg-color: #3B4455;\n",
              "      --fill-color: #D2E3FC;\n",
              "      --hover-bg-color: #434B5C;\n",
              "      --hover-fill-color: #FFFFFF;\n",
              "      --disabled-bg-color: #3B4455;\n",
              "      --disabled-fill-color: #666;\n",
              "  }\n",
              "\n",
              "  .colab-df-quickchart {\n",
              "    background-color: var(--bg-color);\n",
              "    border: none;\n",
              "    border-radius: 50%;\n",
              "    cursor: pointer;\n",
              "    display: none;\n",
              "    fill: var(--fill-color);\n",
              "    height: 32px;\n",
              "    padding: 0;\n",
              "    width: 32px;\n",
              "  }\n",
              "\n",
              "  .colab-df-quickchart:hover {\n",
              "    background-color: var(--hover-bg-color);\n",
              "    box-shadow: 0 1px 2px rgba(60, 64, 67, 0.3), 0 1px 3px 1px rgba(60, 64, 67, 0.15);\n",
              "    fill: var(--button-hover-fill-color);\n",
              "  }\n",
              "\n",
              "  .colab-df-quickchart-complete:disabled,\n",
              "  .colab-df-quickchart-complete:disabled:hover {\n",
              "    background-color: var(--disabled-bg-color);\n",
              "    fill: var(--disabled-fill-color);\n",
              "    box-shadow: none;\n",
              "  }\n",
              "\n",
              "  .colab-df-spinner {\n",
              "    border: 2px solid var(--fill-color);\n",
              "    border-color: transparent;\n",
              "    border-bottom-color: var(--fill-color);\n",
              "    animation:\n",
              "      spin 1s steps(1) infinite;\n",
              "  }\n",
              "\n",
              "  @keyframes spin {\n",
              "    0% {\n",
              "      border-color: transparent;\n",
              "      border-bottom-color: var(--fill-color);\n",
              "      border-left-color: var(--fill-color);\n",
              "    }\n",
              "    20% {\n",
              "      border-color: transparent;\n",
              "      border-left-color: var(--fill-color);\n",
              "      border-top-color: var(--fill-color);\n",
              "    }\n",
              "    30% {\n",
              "      border-color: transparent;\n",
              "      border-left-color: var(--fill-color);\n",
              "      border-top-color: var(--fill-color);\n",
              "      border-right-color: var(--fill-color);\n",
              "    }\n",
              "    40% {\n",
              "      border-color: transparent;\n",
              "      border-right-color: var(--fill-color);\n",
              "      border-top-color: var(--fill-color);\n",
              "    }\n",
              "    60% {\n",
              "      border-color: transparent;\n",
              "      border-right-color: var(--fill-color);\n",
              "    }\n",
              "    80% {\n",
              "      border-color: transparent;\n",
              "      border-right-color: var(--fill-color);\n",
              "      border-bottom-color: var(--fill-color);\n",
              "    }\n",
              "    90% {\n",
              "      border-color: transparent;\n",
              "      border-bottom-color: var(--fill-color);\n",
              "    }\n",
              "  }\n",
              "</style>\n",
              "\n",
              "  <script>\n",
              "    async function quickchart(key) {\n",
              "      const quickchartButtonEl =\n",
              "        document.querySelector('#' + key + ' button');\n",
              "      quickchartButtonEl.disabled = true;  // To prevent multiple clicks.\n",
              "      quickchartButtonEl.classList.add('colab-df-spinner');\n",
              "      try {\n",
              "        const charts = await google.colab.kernel.invokeFunction(\n",
              "            'suggestCharts', [key], {});\n",
              "      } catch (error) {\n",
              "        console.error('Error during call to suggestCharts:', error);\n",
              "      }\n",
              "      quickchartButtonEl.classList.remove('colab-df-spinner');\n",
              "      quickchartButtonEl.classList.add('colab-df-quickchart-complete');\n",
              "    }\n",
              "    (() => {\n",
              "      let quickchartButtonEl =\n",
              "        document.querySelector('#df-dfa4c144-2595-4a09-a006-795718550c3d button');\n",
              "      quickchartButtonEl.style.display =\n",
              "        google.colab.kernel.accessAllowed ? 'block' : 'none';\n",
              "    })();\n",
              "  </script>\n",
              "</div>\n",
              "\n",
              "    </div>\n",
              "  </div>\n"
            ],
            "application/vnd.google.colaboratory.intrinsic+json": {
              "type": "dataframe",
              "variable_name": "df",
              "summary": "{\n  \"name\": \"df\",\n  \"rows\": 90836,\n  \"fields\": [\n    {\n      \"column\": \"est_diameter_min\",\n      \"properties\": {\n        \"dtype\": \"number\",\n        \"std\": 0.2985112435285911,\n        \"min\": 0.0006089126,\n        \"max\": 37.8926498379,\n        \"num_unique_values\": 1638,\n        \"samples\": [\n          0.0075605776,\n          0.0032400744,\n          0.0232570687\n        ],\n        \"semantic_type\": \"\",\n        \"description\": \"\"\n      }\n    },\n    {\n      \"column\": \"est_diameter_max\",\n      \"properties\": {\n        \"dtype\": \"number\",\n        \"std\": 0.6674914325765064,\n        \"min\": 0.00136157,\n        \"max\": 84.7305408852,\n        \"num_unique_values\": 1638,\n        \"samples\": [\n          0.0169059655,\n          0.0072450265,\n          0.0520043867\n        ],\n        \"semantic_type\": \"\",\n        \"description\": \"\"\n      }\n    },\n    {\n      \"column\": \"relative_velocity\",\n      \"properties\": {\n        \"dtype\": \"number\",\n        \"std\": 25293.296960671203,\n        \"min\": 203.34643253,\n        \"max\": 236990.1280878666,\n        \"num_unique_values\": 90828,\n        \"samples\": [\n          24899.9202994279,\n          80827.3431270144,\n          38059.3864424538\n        ],\n        \"semantic_type\": \"\",\n        \"description\": \"\"\n      }\n    },\n    {\n      \"column\": \"miss_distance\",\n      \"properties\": {\n        \"dtype\": \"number\",\n        \"std\": 22352040.599189546,\n        \"min\": 6745.532515957,\n        \"max\": 74798651.4521972,\n        \"num_unique_values\": 90536,\n        \"samples\": [\n          38764558.55056069,\n          36020594.80550471,\n          8344535.573958611\n        ],\n        \"semantic_type\": \"\",\n        \"description\": \"\"\n      }\n    },\n    {\n      \"column\": \"absolute_magnitude\",\n      \"properties\": {\n        \"dtype\": \"number\",\n        \"std\": 2.89408550693204,\n        \"min\": 9.23,\n        \"max\": 33.2,\n        \"num_unique_values\": 1638,\n        \"samples\": [\n          27.73,\n          29.57,\n          25.29\n        ],\n        \"semantic_type\": \"\",\n        \"description\": \"\"\n      }\n    },\n    {\n      \"column\": \"hazardous\",\n      \"properties\": {\n        \"dtype\": \"boolean\",\n        \"num_unique_values\": 2,\n        \"samples\": [\n          true,\n          false\n        ],\n        \"semantic_type\": \"\",\n        \"description\": \"\"\n      }\n    }\n  ]\n}"
            }
          },
          "metadata": {},
          "execution_count": 19
        }
      ],
      "source": [
        "df.head(10)"
      ]
    },
    {
      "cell_type": "code",
      "execution_count": 20,
      "id": "30cbe199",
      "metadata": {
        "id": "30cbe199",
        "outputId": "d1685cd8-ac36-4552-8c83-51b8e467343d",
        "colab": {
          "base_uri": "https://localhost:8080/",
          "height": 363
        }
      },
      "outputs": [
        {
          "output_type": "execute_result",
          "data": {
            "text/plain": [
              "       est_diameter_min  est_diameter_max  relative_velocity  miss_distance  \\\n",
              "90826          0.086807          0.194106       45322.795023   4.095345e+07   \n",
              "90827          0.024692          0.055213       14655.044804   1.766750e+07   \n",
              "90828          0.036691          0.082043       26172.119254   2.249368e+06   \n",
              "90829          0.123184          0.275448       80671.310009   6.897365e+07   \n",
              "90830          0.069913          0.156329       38102.469622   4.667988e+07   \n",
              "90831          0.026580          0.059435       52078.886692   1.230039e+07   \n",
              "90832          0.016771          0.037501       46114.605073   5.432121e+07   \n",
              "90833          0.031956          0.071456        7566.807732   2.840077e+07   \n",
              "90834          0.007321          0.016370       69199.154484   6.869206e+07   \n",
              "90835          0.039862          0.089133       27024.455553   5.977213e+07   \n",
              "\n",
              "       absolute_magnitude  hazardous  \n",
              "90826               22.43      False  \n",
              "90827               25.16      False  \n",
              "90828               24.30      False  \n",
              "90829               21.67      False  \n",
              "90830               22.90      False  \n",
              "90831               25.00      False  \n",
              "90832               26.00      False  \n",
              "90833               24.60      False  \n",
              "90834               27.80      False  \n",
              "90835               24.12      False  "
            ],
            "text/html": [
              "\n",
              "  <div id=\"df-5507ce0f-d679-4a53-b429-ac78e6bc51b7\" class=\"colab-df-container\">\n",
              "    <div>\n",
              "<style scoped>\n",
              "    .dataframe tbody tr th:only-of-type {\n",
              "        vertical-align: middle;\n",
              "    }\n",
              "\n",
              "    .dataframe tbody tr th {\n",
              "        vertical-align: top;\n",
              "    }\n",
              "\n",
              "    .dataframe thead th {\n",
              "        text-align: right;\n",
              "    }\n",
              "</style>\n",
              "<table border=\"1\" class=\"dataframe\">\n",
              "  <thead>\n",
              "    <tr style=\"text-align: right;\">\n",
              "      <th></th>\n",
              "      <th>est_diameter_min</th>\n",
              "      <th>est_diameter_max</th>\n",
              "      <th>relative_velocity</th>\n",
              "      <th>miss_distance</th>\n",
              "      <th>absolute_magnitude</th>\n",
              "      <th>hazardous</th>\n",
              "    </tr>\n",
              "  </thead>\n",
              "  <tbody>\n",
              "    <tr>\n",
              "      <th>90826</th>\n",
              "      <td>0.086807</td>\n",
              "      <td>0.194106</td>\n",
              "      <td>45322.795023</td>\n",
              "      <td>4.095345e+07</td>\n",
              "      <td>22.43</td>\n",
              "      <td>False</td>\n",
              "    </tr>\n",
              "    <tr>\n",
              "      <th>90827</th>\n",
              "      <td>0.024692</td>\n",
              "      <td>0.055213</td>\n",
              "      <td>14655.044804</td>\n",
              "      <td>1.766750e+07</td>\n",
              "      <td>25.16</td>\n",
              "      <td>False</td>\n",
              "    </tr>\n",
              "    <tr>\n",
              "      <th>90828</th>\n",
              "      <td>0.036691</td>\n",
              "      <td>0.082043</td>\n",
              "      <td>26172.119254</td>\n",
              "      <td>2.249368e+06</td>\n",
              "      <td>24.30</td>\n",
              "      <td>False</td>\n",
              "    </tr>\n",
              "    <tr>\n",
              "      <th>90829</th>\n",
              "      <td>0.123184</td>\n",
              "      <td>0.275448</td>\n",
              "      <td>80671.310009</td>\n",
              "      <td>6.897365e+07</td>\n",
              "      <td>21.67</td>\n",
              "      <td>False</td>\n",
              "    </tr>\n",
              "    <tr>\n",
              "      <th>90830</th>\n",
              "      <td>0.069913</td>\n",
              "      <td>0.156329</td>\n",
              "      <td>38102.469622</td>\n",
              "      <td>4.667988e+07</td>\n",
              "      <td>22.90</td>\n",
              "      <td>False</td>\n",
              "    </tr>\n",
              "    <tr>\n",
              "      <th>90831</th>\n",
              "      <td>0.026580</td>\n",
              "      <td>0.059435</td>\n",
              "      <td>52078.886692</td>\n",
              "      <td>1.230039e+07</td>\n",
              "      <td>25.00</td>\n",
              "      <td>False</td>\n",
              "    </tr>\n",
              "    <tr>\n",
              "      <th>90832</th>\n",
              "      <td>0.016771</td>\n",
              "      <td>0.037501</td>\n",
              "      <td>46114.605073</td>\n",
              "      <td>5.432121e+07</td>\n",
              "      <td>26.00</td>\n",
              "      <td>False</td>\n",
              "    </tr>\n",
              "    <tr>\n",
              "      <th>90833</th>\n",
              "      <td>0.031956</td>\n",
              "      <td>0.071456</td>\n",
              "      <td>7566.807732</td>\n",
              "      <td>2.840077e+07</td>\n",
              "      <td>24.60</td>\n",
              "      <td>False</td>\n",
              "    </tr>\n",
              "    <tr>\n",
              "      <th>90834</th>\n",
              "      <td>0.007321</td>\n",
              "      <td>0.016370</td>\n",
              "      <td>69199.154484</td>\n",
              "      <td>6.869206e+07</td>\n",
              "      <td>27.80</td>\n",
              "      <td>False</td>\n",
              "    </tr>\n",
              "    <tr>\n",
              "      <th>90835</th>\n",
              "      <td>0.039862</td>\n",
              "      <td>0.089133</td>\n",
              "      <td>27024.455553</td>\n",
              "      <td>5.977213e+07</td>\n",
              "      <td>24.12</td>\n",
              "      <td>False</td>\n",
              "    </tr>\n",
              "  </tbody>\n",
              "</table>\n",
              "</div>\n",
              "    <div class=\"colab-df-buttons\">\n",
              "\n",
              "  <div class=\"colab-df-container\">\n",
              "    <button class=\"colab-df-convert\" onclick=\"convertToInteractive('df-5507ce0f-d679-4a53-b429-ac78e6bc51b7')\"\n",
              "            title=\"Convert this dataframe to an interactive table.\"\n",
              "            style=\"display:none;\">\n",
              "\n",
              "  <svg xmlns=\"http://www.w3.org/2000/svg\" height=\"24px\" viewBox=\"0 -960 960 960\">\n",
              "    <path d=\"M120-120v-720h720v720H120Zm60-500h600v-160H180v160Zm220 220h160v-160H400v160Zm0 220h160v-160H400v160ZM180-400h160v-160H180v160Zm440 0h160v-160H620v160ZM180-180h160v-160H180v160Zm440 0h160v-160H620v160Z\"/>\n",
              "  </svg>\n",
              "    </button>\n",
              "\n",
              "  <style>\n",
              "    .colab-df-container {\n",
              "      display:flex;\n",
              "      gap: 12px;\n",
              "    }\n",
              "\n",
              "    .colab-df-convert {\n",
              "      background-color: #E8F0FE;\n",
              "      border: none;\n",
              "      border-radius: 50%;\n",
              "      cursor: pointer;\n",
              "      display: none;\n",
              "      fill: #1967D2;\n",
              "      height: 32px;\n",
              "      padding: 0 0 0 0;\n",
              "      width: 32px;\n",
              "    }\n",
              "\n",
              "    .colab-df-convert:hover {\n",
              "      background-color: #E2EBFA;\n",
              "      box-shadow: 0px 1px 2px rgba(60, 64, 67, 0.3), 0px 1px 3px 1px rgba(60, 64, 67, 0.15);\n",
              "      fill: #174EA6;\n",
              "    }\n",
              "\n",
              "    .colab-df-buttons div {\n",
              "      margin-bottom: 4px;\n",
              "    }\n",
              "\n",
              "    [theme=dark] .colab-df-convert {\n",
              "      background-color: #3B4455;\n",
              "      fill: #D2E3FC;\n",
              "    }\n",
              "\n",
              "    [theme=dark] .colab-df-convert:hover {\n",
              "      background-color: #434B5C;\n",
              "      box-shadow: 0px 1px 3px 1px rgba(0, 0, 0, 0.15);\n",
              "      filter: drop-shadow(0px 1px 2px rgba(0, 0, 0, 0.3));\n",
              "      fill: #FFFFFF;\n",
              "    }\n",
              "  </style>\n",
              "\n",
              "    <script>\n",
              "      const buttonEl =\n",
              "        document.querySelector('#df-5507ce0f-d679-4a53-b429-ac78e6bc51b7 button.colab-df-convert');\n",
              "      buttonEl.style.display =\n",
              "        google.colab.kernel.accessAllowed ? 'block' : 'none';\n",
              "\n",
              "      async function convertToInteractive(key) {\n",
              "        const element = document.querySelector('#df-5507ce0f-d679-4a53-b429-ac78e6bc51b7');\n",
              "        const dataTable =\n",
              "          await google.colab.kernel.invokeFunction('convertToInteractive',\n",
              "                                                    [key], {});\n",
              "        if (!dataTable) return;\n",
              "\n",
              "        const docLinkHtml = 'Like what you see? Visit the ' +\n",
              "          '<a target=\"_blank\" href=https://colab.research.google.com/notebooks/data_table.ipynb>data table notebook</a>'\n",
              "          + ' to learn more about interactive tables.';\n",
              "        element.innerHTML = '';\n",
              "        dataTable['output_type'] = 'display_data';\n",
              "        await google.colab.output.renderOutput(dataTable, element);\n",
              "        const docLink = document.createElement('div');\n",
              "        docLink.innerHTML = docLinkHtml;\n",
              "        element.appendChild(docLink);\n",
              "      }\n",
              "    </script>\n",
              "  </div>\n",
              "\n",
              "\n",
              "<div id=\"df-40b7a702-917f-42e8-b4ae-4c07d1890cde\">\n",
              "  <button class=\"colab-df-quickchart\" onclick=\"quickchart('df-40b7a702-917f-42e8-b4ae-4c07d1890cde')\"\n",
              "            title=\"Suggest charts\"\n",
              "            style=\"display:none;\">\n",
              "\n",
              "<svg xmlns=\"http://www.w3.org/2000/svg\" height=\"24px\"viewBox=\"0 0 24 24\"\n",
              "     width=\"24px\">\n",
              "    <g>\n",
              "        <path d=\"M19 3H5c-1.1 0-2 .9-2 2v14c0 1.1.9 2 2 2h14c1.1 0 2-.9 2-2V5c0-1.1-.9-2-2-2zM9 17H7v-7h2v7zm4 0h-2V7h2v10zm4 0h-2v-4h2v4z\"/>\n",
              "    </g>\n",
              "</svg>\n",
              "  </button>\n",
              "\n",
              "<style>\n",
              "  .colab-df-quickchart {\n",
              "      --bg-color: #E8F0FE;\n",
              "      --fill-color: #1967D2;\n",
              "      --hover-bg-color: #E2EBFA;\n",
              "      --hover-fill-color: #174EA6;\n",
              "      --disabled-fill-color: #AAA;\n",
              "      --disabled-bg-color: #DDD;\n",
              "  }\n",
              "\n",
              "  [theme=dark] .colab-df-quickchart {\n",
              "      --bg-color: #3B4455;\n",
              "      --fill-color: #D2E3FC;\n",
              "      --hover-bg-color: #434B5C;\n",
              "      --hover-fill-color: #FFFFFF;\n",
              "      --disabled-bg-color: #3B4455;\n",
              "      --disabled-fill-color: #666;\n",
              "  }\n",
              "\n",
              "  .colab-df-quickchart {\n",
              "    background-color: var(--bg-color);\n",
              "    border: none;\n",
              "    border-radius: 50%;\n",
              "    cursor: pointer;\n",
              "    display: none;\n",
              "    fill: var(--fill-color);\n",
              "    height: 32px;\n",
              "    padding: 0;\n",
              "    width: 32px;\n",
              "  }\n",
              "\n",
              "  .colab-df-quickchart:hover {\n",
              "    background-color: var(--hover-bg-color);\n",
              "    box-shadow: 0 1px 2px rgba(60, 64, 67, 0.3), 0 1px 3px 1px rgba(60, 64, 67, 0.15);\n",
              "    fill: var(--button-hover-fill-color);\n",
              "  }\n",
              "\n",
              "  .colab-df-quickchart-complete:disabled,\n",
              "  .colab-df-quickchart-complete:disabled:hover {\n",
              "    background-color: var(--disabled-bg-color);\n",
              "    fill: var(--disabled-fill-color);\n",
              "    box-shadow: none;\n",
              "  }\n",
              "\n",
              "  .colab-df-spinner {\n",
              "    border: 2px solid var(--fill-color);\n",
              "    border-color: transparent;\n",
              "    border-bottom-color: var(--fill-color);\n",
              "    animation:\n",
              "      spin 1s steps(1) infinite;\n",
              "  }\n",
              "\n",
              "  @keyframes spin {\n",
              "    0% {\n",
              "      border-color: transparent;\n",
              "      border-bottom-color: var(--fill-color);\n",
              "      border-left-color: var(--fill-color);\n",
              "    }\n",
              "    20% {\n",
              "      border-color: transparent;\n",
              "      border-left-color: var(--fill-color);\n",
              "      border-top-color: var(--fill-color);\n",
              "    }\n",
              "    30% {\n",
              "      border-color: transparent;\n",
              "      border-left-color: var(--fill-color);\n",
              "      border-top-color: var(--fill-color);\n",
              "      border-right-color: var(--fill-color);\n",
              "    }\n",
              "    40% {\n",
              "      border-color: transparent;\n",
              "      border-right-color: var(--fill-color);\n",
              "      border-top-color: var(--fill-color);\n",
              "    }\n",
              "    60% {\n",
              "      border-color: transparent;\n",
              "      border-right-color: var(--fill-color);\n",
              "    }\n",
              "    80% {\n",
              "      border-color: transparent;\n",
              "      border-right-color: var(--fill-color);\n",
              "      border-bottom-color: var(--fill-color);\n",
              "    }\n",
              "    90% {\n",
              "      border-color: transparent;\n",
              "      border-bottom-color: var(--fill-color);\n",
              "    }\n",
              "  }\n",
              "</style>\n",
              "\n",
              "  <script>\n",
              "    async function quickchart(key) {\n",
              "      const quickchartButtonEl =\n",
              "        document.querySelector('#' + key + ' button');\n",
              "      quickchartButtonEl.disabled = true;  // To prevent multiple clicks.\n",
              "      quickchartButtonEl.classList.add('colab-df-spinner');\n",
              "      try {\n",
              "        const charts = await google.colab.kernel.invokeFunction(\n",
              "            'suggestCharts', [key], {});\n",
              "      } catch (error) {\n",
              "        console.error('Error during call to suggestCharts:', error);\n",
              "      }\n",
              "      quickchartButtonEl.classList.remove('colab-df-spinner');\n",
              "      quickchartButtonEl.classList.add('colab-df-quickchart-complete');\n",
              "    }\n",
              "    (() => {\n",
              "      let quickchartButtonEl =\n",
              "        document.querySelector('#df-40b7a702-917f-42e8-b4ae-4c07d1890cde button');\n",
              "      quickchartButtonEl.style.display =\n",
              "        google.colab.kernel.accessAllowed ? 'block' : 'none';\n",
              "    })();\n",
              "  </script>\n",
              "</div>\n",
              "\n",
              "    </div>\n",
              "  </div>\n"
            ],
            "application/vnd.google.colaboratory.intrinsic+json": {
              "type": "dataframe",
              "summary": "{\n  \"name\": \"df\",\n  \"rows\": 10,\n  \"fields\": [\n    {\n      \"column\": \"est_diameter_min\",\n      \"properties\": {\n        \"dtype\": \"number\",\n        \"std\": 0.03604961013188463,\n        \"min\": 0.0073207399,\n        \"max\": 0.1231841913,\n        \"num_unique_values\": 10,\n        \"samples\": [\n          0.0073207399,\n          0.0246919266,\n          0.02658\n        ],\n        \"semantic_type\": \"\",\n        \"description\": \"\"\n      }\n    },\n    {\n      \"column\": \"est_diameter_max\",\n      \"properties\": {\n        \"dtype\": \"number\",\n        \"std\": 0.08060937880460087,\n        \"min\": 0.016369672,\n        \"max\": 0.2754482254,\n        \"num_unique_values\": 10,\n        \"samples\": [\n          0.016369672,\n          0.0552128263,\n          0.0594346868\n        ],\n        \"semantic_type\": \"\",\n        \"description\": \"\"\n      }\n    },\n    {\n      \"column\": \"relative_velocity\",\n      \"properties\": {\n        \"dtype\": \"number\",\n        \"std\": 23024.260010984945,\n        \"min\": 7566.8077324922,\n        \"max\": 80671.3100091223,\n        \"num_unique_values\": 10,\n        \"samples\": [\n          69199.1544835094,\n          14655.0448035834,\n          52078.8866916229\n        ],\n        \"semantic_type\": \"\",\n        \"description\": \"\"\n      }\n    },\n    {\n      \"column\": \"miss_distance\",\n      \"properties\": {\n        \"dtype\": \"number\",\n        \"std\": 23874513.924988825,\n        \"min\": 2249368.203991686,\n        \"max\": 68973646.10697727,\n        \"num_unique_values\": 10,\n        \"samples\": [\n          68692060.5345607,\n          17667502.91187881,\n          12300389.180559944\n        ],\n        \"semantic_type\": \"\",\n        \"description\": \"\"\n      }\n    },\n    {\n      \"column\": \"absolute_magnitude\",\n      \"properties\": {\n        \"dtype\": \"number\",\n        \"std\": 1.787914986793276,\n        \"min\": 21.67,\n        \"max\": 27.8,\n        \"num_unique_values\": 10,\n        \"samples\": [\n          27.8,\n          25.16,\n          25.0\n        ],\n        \"semantic_type\": \"\",\n        \"description\": \"\"\n      }\n    },\n    {\n      \"column\": \"hazardous\",\n      \"properties\": {\n        \"dtype\": \"boolean\",\n        \"num_unique_values\": 1,\n        \"samples\": [\n          false\n        ],\n        \"semantic_type\": \"\",\n        \"description\": \"\"\n      }\n    }\n  ]\n}"
            }
          },
          "metadata": {},
          "execution_count": 20
        }
      ],
      "source": [
        "df.tail(10)"
      ]
    },
    {
      "cell_type": "markdown",
      "id": "2a768ee0",
      "metadata": {
        "id": "2a768ee0"
      },
      "source": [
        "Now, let's get description of the data in the DataFrame."
      ]
    },
    {
      "cell_type": "code",
      "execution_count": 21,
      "id": "268ced44",
      "metadata": {
        "id": "268ced44",
        "outputId": "41b3f8c5-9360-4cad-d7b3-19cd456ad15c",
        "colab": {
          "base_uri": "https://localhost:8080/",
          "height": 206
        }
      },
      "outputs": [
        {
          "output_type": "execute_result",
          "data": {
            "text/plain": [
              "                      count          mean           std          min  \\\n",
              "est_diameter_min    90836.0  1.274321e-01  2.985112e-01     0.000609   \n",
              "est_diameter_max    90836.0  2.849469e-01  6.674914e-01     0.001362   \n",
              "relative_velocity   90836.0  4.806692e+04  2.529330e+04   203.346433   \n",
              "miss_distance       90836.0  3.706655e+07  2.235204e+07  6745.532516   \n",
              "absolute_magnitude  90836.0  2.352710e+01  2.894086e+00     9.230000   \n",
              "\n",
              "                             25%           50%           75%           max  \n",
              "est_diameter_min    1.925551e-02  4.836765e-02  1.434019e-01  3.789265e+01  \n",
              "est_diameter_max    4.305662e-02  1.081534e-01  3.206564e-01  8.473054e+01  \n",
              "relative_velocity   2.861902e+04  4.419012e+04  6.292360e+04  2.369901e+05  \n",
              "miss_distance       1.721082e+07  3.784658e+07  5.654900e+07  7.479865e+07  \n",
              "absolute_magnitude  2.134000e+01  2.370000e+01  2.570000e+01  3.320000e+01  "
            ],
            "text/html": [
              "\n",
              "  <div id=\"df-932d4426-0530-4df3-bb2a-0875145cd6eb\" class=\"colab-df-container\">\n",
              "    <div>\n",
              "<style scoped>\n",
              "    .dataframe tbody tr th:only-of-type {\n",
              "        vertical-align: middle;\n",
              "    }\n",
              "\n",
              "    .dataframe tbody tr th {\n",
              "        vertical-align: top;\n",
              "    }\n",
              "\n",
              "    .dataframe thead th {\n",
              "        text-align: right;\n",
              "    }\n",
              "</style>\n",
              "<table border=\"1\" class=\"dataframe\">\n",
              "  <thead>\n",
              "    <tr style=\"text-align: right;\">\n",
              "      <th></th>\n",
              "      <th>count</th>\n",
              "      <th>mean</th>\n",
              "      <th>std</th>\n",
              "      <th>min</th>\n",
              "      <th>25%</th>\n",
              "      <th>50%</th>\n",
              "      <th>75%</th>\n",
              "      <th>max</th>\n",
              "    </tr>\n",
              "  </thead>\n",
              "  <tbody>\n",
              "    <tr>\n",
              "      <th>est_diameter_min</th>\n",
              "      <td>90836.0</td>\n",
              "      <td>1.274321e-01</td>\n",
              "      <td>2.985112e-01</td>\n",
              "      <td>0.000609</td>\n",
              "      <td>1.925551e-02</td>\n",
              "      <td>4.836765e-02</td>\n",
              "      <td>1.434019e-01</td>\n",
              "      <td>3.789265e+01</td>\n",
              "    </tr>\n",
              "    <tr>\n",
              "      <th>est_diameter_max</th>\n",
              "      <td>90836.0</td>\n",
              "      <td>2.849469e-01</td>\n",
              "      <td>6.674914e-01</td>\n",
              "      <td>0.001362</td>\n",
              "      <td>4.305662e-02</td>\n",
              "      <td>1.081534e-01</td>\n",
              "      <td>3.206564e-01</td>\n",
              "      <td>8.473054e+01</td>\n",
              "    </tr>\n",
              "    <tr>\n",
              "      <th>relative_velocity</th>\n",
              "      <td>90836.0</td>\n",
              "      <td>4.806692e+04</td>\n",
              "      <td>2.529330e+04</td>\n",
              "      <td>203.346433</td>\n",
              "      <td>2.861902e+04</td>\n",
              "      <td>4.419012e+04</td>\n",
              "      <td>6.292360e+04</td>\n",
              "      <td>2.369901e+05</td>\n",
              "    </tr>\n",
              "    <tr>\n",
              "      <th>miss_distance</th>\n",
              "      <td>90836.0</td>\n",
              "      <td>3.706655e+07</td>\n",
              "      <td>2.235204e+07</td>\n",
              "      <td>6745.532516</td>\n",
              "      <td>1.721082e+07</td>\n",
              "      <td>3.784658e+07</td>\n",
              "      <td>5.654900e+07</td>\n",
              "      <td>7.479865e+07</td>\n",
              "    </tr>\n",
              "    <tr>\n",
              "      <th>absolute_magnitude</th>\n",
              "      <td>90836.0</td>\n",
              "      <td>2.352710e+01</td>\n",
              "      <td>2.894086e+00</td>\n",
              "      <td>9.230000</td>\n",
              "      <td>2.134000e+01</td>\n",
              "      <td>2.370000e+01</td>\n",
              "      <td>2.570000e+01</td>\n",
              "      <td>3.320000e+01</td>\n",
              "    </tr>\n",
              "  </tbody>\n",
              "</table>\n",
              "</div>\n",
              "    <div class=\"colab-df-buttons\">\n",
              "\n",
              "  <div class=\"colab-df-container\">\n",
              "    <button class=\"colab-df-convert\" onclick=\"convertToInteractive('df-932d4426-0530-4df3-bb2a-0875145cd6eb')\"\n",
              "            title=\"Convert this dataframe to an interactive table.\"\n",
              "            style=\"display:none;\">\n",
              "\n",
              "  <svg xmlns=\"http://www.w3.org/2000/svg\" height=\"24px\" viewBox=\"0 -960 960 960\">\n",
              "    <path d=\"M120-120v-720h720v720H120Zm60-500h600v-160H180v160Zm220 220h160v-160H400v160Zm0 220h160v-160H400v160ZM180-400h160v-160H180v160Zm440 0h160v-160H620v160ZM180-180h160v-160H180v160Zm440 0h160v-160H620v160Z\"/>\n",
              "  </svg>\n",
              "    </button>\n",
              "\n",
              "  <style>\n",
              "    .colab-df-container {\n",
              "      display:flex;\n",
              "      gap: 12px;\n",
              "    }\n",
              "\n",
              "    .colab-df-convert {\n",
              "      background-color: #E8F0FE;\n",
              "      border: none;\n",
              "      border-radius: 50%;\n",
              "      cursor: pointer;\n",
              "      display: none;\n",
              "      fill: #1967D2;\n",
              "      height: 32px;\n",
              "      padding: 0 0 0 0;\n",
              "      width: 32px;\n",
              "    }\n",
              "\n",
              "    .colab-df-convert:hover {\n",
              "      background-color: #E2EBFA;\n",
              "      box-shadow: 0px 1px 2px rgba(60, 64, 67, 0.3), 0px 1px 3px 1px rgba(60, 64, 67, 0.15);\n",
              "      fill: #174EA6;\n",
              "    }\n",
              "\n",
              "    .colab-df-buttons div {\n",
              "      margin-bottom: 4px;\n",
              "    }\n",
              "\n",
              "    [theme=dark] .colab-df-convert {\n",
              "      background-color: #3B4455;\n",
              "      fill: #D2E3FC;\n",
              "    }\n",
              "\n",
              "    [theme=dark] .colab-df-convert:hover {\n",
              "      background-color: #434B5C;\n",
              "      box-shadow: 0px 1px 3px 1px rgba(0, 0, 0, 0.15);\n",
              "      filter: drop-shadow(0px 1px 2px rgba(0, 0, 0, 0.3));\n",
              "      fill: #FFFFFF;\n",
              "    }\n",
              "  </style>\n",
              "\n",
              "    <script>\n",
              "      const buttonEl =\n",
              "        document.querySelector('#df-932d4426-0530-4df3-bb2a-0875145cd6eb button.colab-df-convert');\n",
              "      buttonEl.style.display =\n",
              "        google.colab.kernel.accessAllowed ? 'block' : 'none';\n",
              "\n",
              "      async function convertToInteractive(key) {\n",
              "        const element = document.querySelector('#df-932d4426-0530-4df3-bb2a-0875145cd6eb');\n",
              "        const dataTable =\n",
              "          await google.colab.kernel.invokeFunction('convertToInteractive',\n",
              "                                                    [key], {});\n",
              "        if (!dataTable) return;\n",
              "\n",
              "        const docLinkHtml = 'Like what you see? Visit the ' +\n",
              "          '<a target=\"_blank\" href=https://colab.research.google.com/notebooks/data_table.ipynb>data table notebook</a>'\n",
              "          + ' to learn more about interactive tables.';\n",
              "        element.innerHTML = '';\n",
              "        dataTable['output_type'] = 'display_data';\n",
              "        await google.colab.output.renderOutput(dataTable, element);\n",
              "        const docLink = document.createElement('div');\n",
              "        docLink.innerHTML = docLinkHtml;\n",
              "        element.appendChild(docLink);\n",
              "      }\n",
              "    </script>\n",
              "  </div>\n",
              "\n",
              "\n",
              "<div id=\"df-b1b8fae7-e738-418b-a789-6e06b049241f\">\n",
              "  <button class=\"colab-df-quickchart\" onclick=\"quickchart('df-b1b8fae7-e738-418b-a789-6e06b049241f')\"\n",
              "            title=\"Suggest charts\"\n",
              "            style=\"display:none;\">\n",
              "\n",
              "<svg xmlns=\"http://www.w3.org/2000/svg\" height=\"24px\"viewBox=\"0 0 24 24\"\n",
              "     width=\"24px\">\n",
              "    <g>\n",
              "        <path d=\"M19 3H5c-1.1 0-2 .9-2 2v14c0 1.1.9 2 2 2h14c1.1 0 2-.9 2-2V5c0-1.1-.9-2-2-2zM9 17H7v-7h2v7zm4 0h-2V7h2v10zm4 0h-2v-4h2v4z\"/>\n",
              "    </g>\n",
              "</svg>\n",
              "  </button>\n",
              "\n",
              "<style>\n",
              "  .colab-df-quickchart {\n",
              "      --bg-color: #E8F0FE;\n",
              "      --fill-color: #1967D2;\n",
              "      --hover-bg-color: #E2EBFA;\n",
              "      --hover-fill-color: #174EA6;\n",
              "      --disabled-fill-color: #AAA;\n",
              "      --disabled-bg-color: #DDD;\n",
              "  }\n",
              "\n",
              "  [theme=dark] .colab-df-quickchart {\n",
              "      --bg-color: #3B4455;\n",
              "      --fill-color: #D2E3FC;\n",
              "      --hover-bg-color: #434B5C;\n",
              "      --hover-fill-color: #FFFFFF;\n",
              "      --disabled-bg-color: #3B4455;\n",
              "      --disabled-fill-color: #666;\n",
              "  }\n",
              "\n",
              "  .colab-df-quickchart {\n",
              "    background-color: var(--bg-color);\n",
              "    border: none;\n",
              "    border-radius: 50%;\n",
              "    cursor: pointer;\n",
              "    display: none;\n",
              "    fill: var(--fill-color);\n",
              "    height: 32px;\n",
              "    padding: 0;\n",
              "    width: 32px;\n",
              "  }\n",
              "\n",
              "  .colab-df-quickchart:hover {\n",
              "    background-color: var(--hover-bg-color);\n",
              "    box-shadow: 0 1px 2px rgba(60, 64, 67, 0.3), 0 1px 3px 1px rgba(60, 64, 67, 0.15);\n",
              "    fill: var(--button-hover-fill-color);\n",
              "  }\n",
              "\n",
              "  .colab-df-quickchart-complete:disabled,\n",
              "  .colab-df-quickchart-complete:disabled:hover {\n",
              "    background-color: var(--disabled-bg-color);\n",
              "    fill: var(--disabled-fill-color);\n",
              "    box-shadow: none;\n",
              "  }\n",
              "\n",
              "  .colab-df-spinner {\n",
              "    border: 2px solid var(--fill-color);\n",
              "    border-color: transparent;\n",
              "    border-bottom-color: var(--fill-color);\n",
              "    animation:\n",
              "      spin 1s steps(1) infinite;\n",
              "  }\n",
              "\n",
              "  @keyframes spin {\n",
              "    0% {\n",
              "      border-color: transparent;\n",
              "      border-bottom-color: var(--fill-color);\n",
              "      border-left-color: var(--fill-color);\n",
              "    }\n",
              "    20% {\n",
              "      border-color: transparent;\n",
              "      border-left-color: var(--fill-color);\n",
              "      border-top-color: var(--fill-color);\n",
              "    }\n",
              "    30% {\n",
              "      border-color: transparent;\n",
              "      border-left-color: var(--fill-color);\n",
              "      border-top-color: var(--fill-color);\n",
              "      border-right-color: var(--fill-color);\n",
              "    }\n",
              "    40% {\n",
              "      border-color: transparent;\n",
              "      border-right-color: var(--fill-color);\n",
              "      border-top-color: var(--fill-color);\n",
              "    }\n",
              "    60% {\n",
              "      border-color: transparent;\n",
              "      border-right-color: var(--fill-color);\n",
              "    }\n",
              "    80% {\n",
              "      border-color: transparent;\n",
              "      border-right-color: var(--fill-color);\n",
              "      border-bottom-color: var(--fill-color);\n",
              "    }\n",
              "    90% {\n",
              "      border-color: transparent;\n",
              "      border-bottom-color: var(--fill-color);\n",
              "    }\n",
              "  }\n",
              "</style>\n",
              "\n",
              "  <script>\n",
              "    async function quickchart(key) {\n",
              "      const quickchartButtonEl =\n",
              "        document.querySelector('#' + key + ' button');\n",
              "      quickchartButtonEl.disabled = true;  // To prevent multiple clicks.\n",
              "      quickchartButtonEl.classList.add('colab-df-spinner');\n",
              "      try {\n",
              "        const charts = await google.colab.kernel.invokeFunction(\n",
              "            'suggestCharts', [key], {});\n",
              "      } catch (error) {\n",
              "        console.error('Error during call to suggestCharts:', error);\n",
              "      }\n",
              "      quickchartButtonEl.classList.remove('colab-df-spinner');\n",
              "      quickchartButtonEl.classList.add('colab-df-quickchart-complete');\n",
              "    }\n",
              "    (() => {\n",
              "      let quickchartButtonEl =\n",
              "        document.querySelector('#df-b1b8fae7-e738-418b-a789-6e06b049241f button');\n",
              "      quickchartButtonEl.style.display =\n",
              "        google.colab.kernel.accessAllowed ? 'block' : 'none';\n",
              "    })();\n",
              "  </script>\n",
              "</div>\n",
              "\n",
              "    </div>\n",
              "  </div>\n"
            ],
            "application/vnd.google.colaboratory.intrinsic+json": {
              "type": "dataframe",
              "summary": "{\n  \"name\": \"df\",\n  \"rows\": 5,\n  \"fields\": [\n    {\n      \"column\": \"count\",\n      \"properties\": {\n        \"dtype\": \"number\",\n        \"std\": 0.0,\n        \"min\": 90836.0,\n        \"max\": 90836.0,\n        \"num_unique_values\": 1,\n        \"samples\": [\n          90836.0\n        ],\n        \"semantic_type\": \"\",\n        \"description\": \"\"\n      }\n    },\n    {\n      \"column\": \"mean\",\n      \"properties\": {\n        \"dtype\": \"number\",\n        \"std\": 16571299.66822779,\n        \"min\": 0.12743210631522306,\n        \"max\": 37066546.03042213,\n        \"num_unique_values\": 5,\n        \"samples\": [\n          0.2849468522354066\n        ],\n        \"semantic_type\": \"\",\n        \"description\": \"\"\n      }\n    },\n    {\n      \"column\": \"std\",\n      \"properties\": {\n        \"dtype\": \"number\",\n        \"std\": 9993314.136052955,\n        \"min\": 0.2985112435285911,\n        \"max\": 22352040.599189546,\n        \"num_unique_values\": 5,\n        \"samples\": [\n          0.6674914325765064\n        ],\n        \"semantic_type\": \"\",\n        \"description\": \"\"\n      }\n    },\n    {\n      \"column\": \"min\",\n      \"properties\": {\n        \"dtype\": \"number\",\n        \"std\": 2994.185297214473,\n        \"min\": 0.0006089126,\n        \"max\": 6745.532515957,\n        \"num_unique_values\": 5,\n        \"samples\": [\n          0.00136157\n        ],\n        \"semantic_type\": \"\",\n        \"description\": \"\"\n      }\n    },\n    {\n      \"column\": \"25%\",\n      \"properties\": {\n        \"dtype\": \"number\",\n        \"std\": 7693720.677862601,\n        \"min\": 0.0192555078,\n        \"max\": 17210820.23576468,\n        \"num_unique_values\": 5,\n        \"samples\": [\n          0.0430566244\n        ],\n        \"semantic_type\": \"\",\n        \"description\": \"\"\n      }\n    },\n    {\n      \"column\": \"50%\",\n      \"properties\": {\n        \"dtype\": \"number\",\n        \"std\": 16920572.332750633,\n        \"min\": 0.0483676488,\n        \"max\": 37846579.263426416,\n        \"num_unique_values\": 5,\n        \"samples\": [\n          0.1081533507\n        ],\n        \"semantic_type\": \"\",\n        \"description\": \"\"\n      }\n    },\n    {\n      \"column\": \"75%\",\n      \"properties\": {\n        \"dtype\": \"number\",\n        \"std\": 25282456.704579547,\n        \"min\": 0.1434019235,\n        \"max\": 56548996.45139917,\n        \"num_unique_values\": 5,\n        \"samples\": [\n          0.320656449\n        ],\n        \"semantic_type\": \"\",\n        \"description\": \"\"\n      }\n    },\n    {\n      \"column\": \"max\",\n      \"properties\": {\n        \"dtype\": \"number\",\n        \"std\": 33424617.593185406,\n        \"min\": 33.2,\n        \"max\": 74798651.4521972,\n        \"num_unique_values\": 5,\n        \"samples\": [\n          84.7305408852\n        ],\n        \"semantic_type\": \"\",\n        \"description\": \"\"\n      }\n    }\n  ]\n}"
            }
          },
          "metadata": {},
          "execution_count": 21
        }
      ],
      "source": [
        "df.describe().T"
      ]
    },
    {
      "cell_type": "markdown",
      "id": "d98f2cb1",
      "metadata": {
        "id": "d98f2cb1"
      },
      "source": [
        "Check number of duplicated rows with <code>duplicated().sum()</code>."
      ]
    },
    {
      "cell_type": "code",
      "execution_count": 22,
      "id": "60900bdf",
      "metadata": {
        "id": "60900bdf",
        "outputId": "894c102b-01d2-41e6-e566-39407691d9b2",
        "colab": {
          "base_uri": "https://localhost:8080/"
        }
      },
      "outputs": [
        {
          "output_type": "execute_result",
          "data": {
            "text/plain": [
              "7"
            ]
          },
          "metadata": {},
          "execution_count": 22
        }
      ],
      "source": [
        "df.duplicated().sum()"
      ]
    },
    {
      "cell_type": "markdown",
      "id": "3e5b7474",
      "metadata": {
        "id": "3e5b7474"
      },
      "source": [
        "Drop duplicated rows."
      ]
    },
    {
      "cell_type": "code",
      "execution_count": 23,
      "id": "31f90b99",
      "metadata": {
        "id": "31f90b99"
      },
      "outputs": [],
      "source": [
        "dp = df[df.duplicated(keep=False)]\n",
        "dp.head(2)\n",
        "df.drop_duplicates(inplace= True)"
      ]
    },
    {
      "cell_type": "markdown",
      "id": "a2182d40",
      "metadata": {
        "id": "a2182d40"
      },
      "source": [
        "Done!"
      ]
    },
    {
      "cell_type": "code",
      "execution_count": 24,
      "id": "dc5f5a32",
      "metadata": {
        "id": "dc5f5a32",
        "outputId": "a34d9227-176e-415a-8ed3-492c029d3b8c",
        "colab": {
          "base_uri": "https://localhost:8080/"
        }
      },
      "outputs": [
        {
          "output_type": "execute_result",
          "data": {
            "text/plain": [
              "0"
            ]
          },
          "metadata": {},
          "execution_count": 24
        }
      ],
      "source": [
        "df.duplicated().sum()"
      ]
    },
    {
      "cell_type": "markdown",
      "id": "b70b13e6",
      "metadata": {
        "id": "b70b13e6"
      },
      "source": [
        "Let's print a concise summary of our DataFrame."
      ]
    },
    {
      "cell_type": "code",
      "execution_count": 25,
      "id": "36a9ec41",
      "metadata": {
        "id": "36a9ec41",
        "outputId": "ae7b6836-9e8c-4a4f-ec95-ad14a037a1e6",
        "colab": {
          "base_uri": "https://localhost:8080/"
        }
      },
      "outputs": [
        {
          "output_type": "stream",
          "name": "stdout",
          "text": [
            "<class 'pandas.core.frame.DataFrame'>\n",
            "Index: 90829 entries, 0 to 90835\n",
            "Data columns (total 6 columns):\n",
            " #   Column              Non-Null Count  Dtype  \n",
            "---  ------              --------------  -----  \n",
            " 0   est_diameter_min    90829 non-null  float64\n",
            " 1   est_diameter_max    90829 non-null  float64\n",
            " 2   relative_velocity   90829 non-null  float64\n",
            " 3   miss_distance       90829 non-null  float64\n",
            " 4   absolute_magnitude  90829 non-null  float64\n",
            " 5   hazardous           90829 non-null  bool   \n",
            "dtypes: bool(1), float64(5)\n",
            "memory usage: 4.2 MB\n"
          ]
        }
      ],
      "source": [
        "df.info()"
      ]
    },
    {
      "cell_type": "markdown",
      "id": "5c5ec54f",
      "metadata": {
        "id": "5c5ec54f"
      },
      "source": [
        "We can see number of unique values and it self in our independent variables with <code>.value_counts()</code>"
      ]
    },
    {
      "cell_type": "code",
      "execution_count": 26,
      "id": "1d7e4649",
      "metadata": {
        "id": "1d7e4649",
        "outputId": "292cbaa2-7738-43a0-bc61-9eec3b08eabd",
        "colab": {
          "base_uri": "https://localhost:8080/"
        }
      },
      "outputs": [
        {
          "output_type": "execute_result",
          "data": {
            "text/plain": [
              "hazardous\n",
              "False    81996\n",
              "True      8840\n",
              "Name: count, dtype: int64"
            ]
          },
          "metadata": {},
          "execution_count": 26
        }
      ],
      "source": [
        "HAZARDOUS.value_counts()"
      ]
    },
    {
      "cell_type": "markdown",
      "id": "7d971fa1",
      "metadata": {
        "id": "7d971fa1"
      },
      "source": [
        "Find the unique elements of an array with <code>.unique()</code>"
      ]
    },
    {
      "cell_type": "code",
      "execution_count": 27,
      "id": "3fe50f49",
      "metadata": {
        "id": "3fe50f49",
        "outputId": "c8170eeb-f63b-4092-8362-16b3ecf52f90",
        "colab": {
          "base_uri": "https://localhost:8080/"
        }
      },
      "outputs": [
        {
          "output_type": "execute_result",
          "data": {
            "text/plain": [
              "array([False,  True])"
            ]
          },
          "metadata": {},
          "execution_count": 27
        }
      ],
      "source": [
        "HAZARDOUS.unique()"
      ]
    },
    {
      "cell_type": "markdown",
      "id": "8a79ddef",
      "metadata": {
        "id": "8a79ddef"
      },
      "source": [
        "### 2.4. Plotting\n",
        "\n",
        "<p>Plots were created in order to gain a different perspective on values and provide visuality.<p>"
      ]
    },
    {
      "cell_type": "code",
      "execution_count": 28,
      "id": "a93ab796",
      "metadata": {
        "id": "a93ab796",
        "outputId": "9877906e-dc08-4bf4-f5b7-a9ba6cbbc4d4",
        "colab": {
          "base_uri": "https://localhost:8080/",
          "height": 598
        }
      },
      "outputs": [
        {
          "output_type": "display_data",
          "data": {
            "text/plain": [
              "<Figure size 700x700 with 1 Axes>"
            ],
            "image/png": "[encoded data removed]"
          },
          "metadata": {}
        }
      ],
      "source": [
        "explode = (0, 0.1)\n",
        "fig = plt.figure(figsize = (7, 7), facecolor='w')\n",
        "out_df=pd.DataFrame(df.groupby('hazardous')['hazardous'].count())\n",
        "\n",
        "patches, texts, autotexts = plt.pie(out_df['hazardous'], autopct='%1.1f%%',\n",
        "                                    textprops={'color': \"w\"},\n",
        "                                    explode=explode,\n",
        "                                    startangle=90, shadow=True)\n",
        "\n",
        "for patch in patches:\n",
        "    patch.set_path_effects({path_effects.Stroke(linewidth=2.5,\n",
        "                                                foreground='w')})\n",
        "\n",
        "plt.legend(labels=['False','True'], bbox_to_anchor=(1., .95))\n",
        "plt.title('Dependent Variables Distribution')\n",
        "# plt.savefig('gender_pie')\n",
        "plt.show()"
      ]
    },
    {
      "cell_type": "markdown",
      "source": [
        "As we can see from the pie chart, our dependent variables are imbalanced. Dealing with imbalanced datasets is a common challenge in machine learning. When your dependent variable classes are imbalanced, it can lead to biased models that perform poorly on the minority class. We are going to deal with it before training our Deep Neural Network (DNN) model."
      ],
      "metadata": {
        "id": "epYUtLoWd5ka"
      },
      "id": "epYUtLoWd5ka"
    },
    {
      "cell_type": "code",
      "execution_count": 29,
      "id": "31464118",
      "metadata": {
        "id": "31464118",
        "outputId": "476a669d-4524-4053-ef64-23b8b7b2da9c",
        "colab": {
          "base_uri": "https://localhost:8080/",
          "height": 1000
        }
      },
      "outputs": [
        {
          "output_type": "display_data",
          "data": {
            "text/plain": [
              "<Figure size 1500x2000 with 5 Axes>"
            ],
            "image/png": "[encoded data removed]"
          },
          "metadata": {}
        }
      ],
      "source": [
        "rows_to_plot = df.columns[:5]\n",
        "\n",
        "plt.figure(figsize=(15, 20))\n",
        "for i, label in enumerate(rows_to_plot, 1):\n",
        "    plt.subplot(len(rows_to_plot), 1, i)\n",
        "    plt.hist(df[df['hazardous'] == 1][label], color='blue', label=\"True\", alpha=0.7, density=True, bins=15)\n",
        "    plt.hist(df[df['hazardous'] == 0][label], color='red', label=\"False\", alpha=0.7, density=True, bins=15)\n",
        "    plt.title(label)\n",
        "    plt.ylabel(\"Probability\")\n",
        "    plt.xlabel(label)\n",
        "    plt.legend()\n",
        "\n",
        "plt.tight_layout()\n",
        "plt.show()"
      ]
    },
    {
      "cell_type": "markdown",
      "id": "e6300d54",
      "metadata": {
        "id": "e6300d54"
      },
      "source": [
        "Creating correlation heatmap."
      ]
    },
    {
      "cell_type": "code",
      "execution_count": 30,
      "id": "c121b898",
      "metadata": {
        "id": "c121b898",
        "outputId": "20fabdb1-71a2-4484-a87c-6c31fa39c4ed",
        "colab": {
          "base_uri": "https://localhost:8080/",
          "height": 563
        }
      },
      "outputs": [
        {
          "output_type": "execute_result",
          "data": {
            "text/plain": [
              "<Axes: title={'center': 'Correlation Heatmap'}>"
            ]
          },
          "metadata": {},
          "execution_count": 30
        },
        {
          "output_type": "display_data",
          "data": {
            "text/plain": [
              "<Figure size 1500x600 with 2 Axes>"
            ],
            "image/png": "[encoded data removed]"
          },
          "metadata": {}
        }
      ],
      "source": [
        "plt.figure(figsize = (15, 6))\n",
        "plt.title('Correlation Heatmap')\n",
        "sns.heatmap(df.corr(), annot = True)"
      ]
    },
    {
      "cell_type": "markdown",
      "id": "f767d2f5",
      "metadata": {
        "id": "f767d2f5"
      },
      "source": [
        "### 2.5. Label encoding\n",
        "\n",
        "<p> Building Label Encoding to handle categorical variables (for hazardous/label column).</p>"
      ]
    },
    {
      "cell_type": "code",
      "execution_count": 31,
      "id": "4716014a",
      "metadata": {
        "id": "4716014a",
        "outputId": "23445c4f-3064-4d9f-f019-b184e2266b2e",
        "colab": {
          "base_uri": "https://localhost:8080/"
        }
      },
      "outputs": [
        {
          "output_type": "execute_result",
          "data": {
            "text/plain": [
              "array([0, 1])"
            ]
          },
          "metadata": {},
          "execution_count": 31
        }
      ],
      "source": [
        "from sklearn.preprocessing import LabelEncoder\n",
        "label_encoder = LabelEncoder()\n",
        "label_encoder.fit(df['hazardous'])\n",
        "df['label'] = label_encoder.transform(df['hazardous'])\n",
        "df['label'].unique()"
      ]
    },
    {
      "cell_type": "markdown",
      "id": "efddf65a",
      "metadata": {
        "id": "efddf65a"
      },
      "source": [
        "Let's see what we have done;"
      ]
    },
    {
      "cell_type": "code",
      "execution_count": 32,
      "id": "8c50f262",
      "metadata": {
        "id": "8c50f262",
        "outputId": "d583edaf-0730-413f-936c-b9e0c5bda7aa",
        "colab": {
          "base_uri": "https://localhost:8080/",
          "height": 206
        }
      },
      "outputs": [
        {
          "output_type": "execute_result",
          "data": {
            "text/plain": [
              "   est_diameter_min  est_diameter_max  relative_velocity  miss_distance  \\\n",
              "0          1.198271          2.679415       13569.249224   5.483974e+07   \n",
              "1          0.265800          0.594347       73588.726663   6.143813e+07   \n",
              "2          0.722030          1.614507      114258.692129   4.979872e+07   \n",
              "3          0.096506          0.215794       24764.303138   2.543497e+07   \n",
              "4          0.255009          0.570217       42737.733765   4.627557e+07   \n",
              "\n",
              "   absolute_magnitude  hazardous  label  \n",
              "0               16.73      False      0  \n",
              "1               20.00       True      1  \n",
              "2               17.83      False      0  \n",
              "3               22.20      False      0  \n",
              "4               20.09       True      1  "
            ],
            "text/html": [
              "\n",
              "  <div id=\"df-fd91073e-8929-4edd-a237-6fc75075b0ee\" class=\"colab-df-container\">\n",
              "    <div>\n",
              "<style scoped>\n",
              "    .dataframe tbody tr th:only-of-type {\n",
              "        vertical-align: middle;\n",
              "    }\n",
              "\n",
              "    .dataframe tbody tr th {\n",
              "        vertical-align: top;\n",
              "    }\n",
              "\n",
              "    .dataframe thead th {\n",
              "        text-align: right;\n",
              "    }\n",
              "</style>\n",
              "<table border=\"1\" class=\"dataframe\">\n",
              "  <thead>\n",
              "    <tr style=\"text-align: right;\">\n",
              "      <th></th>\n",
              "      <th>est_diameter_min</th>\n",
              "      <th>est_diameter_max</th>\n",
              "      <th>relative_velocity</th>\n",
              "      <th>miss_distance</th>\n",
              "      <th>absolute_magnitude</th>\n",
              "      <th>hazardous</th>\n",
              "      <th>label</th>\n",
              "    </tr>\n",
              "  </thead>\n",
              "  <tbody>\n",
              "    <tr>\n",
              "      <th>0</th>\n",
              "      <td>1.198271</td>\n",
              "      <td>2.679415</td>\n",
              "      <td>13569.249224</td>\n",
              "      <td>5.483974e+07</td>\n",
              "      <td>16.73</td>\n",
              "      <td>False</td>\n",
              "      <td>0</td>\n",
              "    </tr>\n",
              "    <tr>\n",
              "      <th>1</th>\n",
              "      <td>0.265800</td>\n",
              "      <td>0.594347</td>\n",
              "      <td>73588.726663</td>\n",
              "      <td>6.143813e+07</td>\n",
              "      <td>20.00</td>\n",
              "      <td>True</td>\n",
              "      <td>1</td>\n",
              "    </tr>\n",
              "    <tr>\n",
              "      <th>2</th>\n",
              "      <td>0.722030</td>\n",
              "      <td>1.614507</td>\n",
              "      <td>114258.692129</td>\n",
              "      <td>4.979872e+07</td>\n",
              "      <td>17.83</td>\n",
              "      <td>False</td>\n",
              "      <td>0</td>\n",
              "    </tr>\n",
              "    <tr>\n",
              "      <th>3</th>\n",
              "      <td>0.096506</td>\n",
              "      <td>0.215794</td>\n",
              "      <td>24764.303138</td>\n",
              "      <td>2.543497e+07</td>\n",
              "      <td>22.20</td>\n",
              "      <td>False</td>\n",
              "      <td>0</td>\n",
              "    </tr>\n",
              "    <tr>\n",
              "      <th>4</th>\n",
              "      <td>0.255009</td>\n",
              "      <td>0.570217</td>\n",
              "      <td>42737.733765</td>\n",
              "      <td>4.627557e+07</td>\n",
              "      <td>20.09</td>\n",
              "      <td>True</td>\n",
              "      <td>1</td>\n",
              "    </tr>\n",
              "  </tbody>\n",
              "</table>\n",
              "</div>\n",
              "    <div class=\"colab-df-buttons\">\n",
              "\n",
              "  <div class=\"colab-df-container\">\n",
              "    <button class=\"colab-df-convert\" onclick=\"convertToInteractive('df-fd91073e-8929-4edd-a237-6fc75075b0ee')\"\n",
              "            title=\"Convert this dataframe to an interactive table.\"\n",
              "            style=\"display:none;\">\n",
              "\n",
              "  <svg xmlns=\"http://www.w3.org/2000/svg\" height=\"24px\" viewBox=\"0 -960 960 960\">\n",
              "    <path d=\"M120-120v-720h720v720H120Zm60-500h600v-160H180v160Zm220 220h160v-160H400v160Zm0 220h160v-160H400v160ZM180-400h160v-160H180v160Zm440 0h160v-160H620v160ZM180-180h160v-160H180v160Zm440 0h160v-160H620v160Z\"/>\n",
              "  </svg>\n",
              "    </button>\n",
              "\n",
              "  <style>\n",
              "    .colab-df-container {\n",
              "      display:flex;\n",
              "      gap: 12px;\n",
              "    }\n",
              "\n",
              "    .colab-df-convert {\n",
              "      background-color: #E8F0FE;\n",
              "      border: none;\n",
              "      border-radius: 50%;\n",
              "      cursor: pointer;\n",
              "      display: none;\n",
              "      fill: #1967D2;\n",
              "      height: 32px;\n",
              "      padding: 0 0 0 0;\n",
              "      width: 32px;\n",
              "    }\n",
              "\n",
              "    .colab-df-convert:hover {\n",
              "      background-color: #E2EBFA;\n",
              "      box-shadow: 0px 1px 2px rgba(60, 64, 67, 0.3), 0px 1px 3px 1px rgba(60, 64, 67, 0.15);\n",
              "      fill: #174EA6;\n",
              "    }\n",
              "\n",
              "    .colab-df-buttons div {\n",
              "      margin-bottom: 4px;\n",
              "    }\n",
              "\n",
              "    [theme=dark] .colab-df-convert {\n",
              "      background-color: #3B4455;\n",
              "      fill: #D2E3FC;\n",
              "    }\n",
              "\n",
              "    [theme=dark] .colab-df-convert:hover {\n",
              "      background-color: #434B5C;\n",
              "      box-shadow: 0px 1px 3px 1px rgba(0, 0, 0, 0.15);\n",
              "      filter: drop-shadow(0px 1px 2px rgba(0, 0, 0, 0.3));\n",
              "      fill: #FFFFFF;\n",
              "    }\n",
              "  </style>\n",
              "\n",
              "    <script>\n",
              "      const buttonEl =\n",
              "        document.querySelector('#df-fd91073e-8929-4edd-a237-6fc75075b0ee button.colab-df-convert');\n",
              "      buttonEl.style.display =\n",
              "        google.colab.kernel.accessAllowed ? 'block' : 'none';\n",
              "\n",
              "      async function convertToInteractive(key) {\n",
              "        const element = document.querySelector('#df-fd91073e-8929-4edd-a237-6fc75075b0ee');\n",
              "        const dataTable =\n",
              "          await google.colab.kernel.invokeFunction('convertToInteractive',\n",
              "                                                    [key], {});\n",
              "        if (!dataTable) return;\n",
              "\n",
              "        const docLinkHtml = 'Like what you see? Visit the ' +\n",
              "          '<a target=\"_blank\" href=https://colab.research.google.com/notebooks/data_table.ipynb>data table notebook</a>'\n",
              "          + ' to learn more about interactive tables.';\n",
              "        element.innerHTML = '';\n",
              "        dataTable['output_type'] = 'display_data';\n",
              "        await google.colab.output.renderOutput(dataTable, element);\n",
              "        const docLink = document.createElement('div');\n",
              "        docLink.innerHTML = docLinkHtml;\n",
              "        element.appendChild(docLink);\n",
              "      }\n",
              "    </script>\n",
              "  </div>\n",
              "\n",
              "\n",
              "<div id=\"df-e0ebef6b-f23d-4a03-891c-f33ddce459ea\">\n",
              "  <button class=\"colab-df-quickchart\" onclick=\"quickchart('df-e0ebef6b-f23d-4a03-891c-f33ddce459ea')\"\n",
              "            title=\"Suggest charts\"\n",
              "            style=\"display:none;\">\n",
              "\n",
              "<svg xmlns=\"http://www.w3.org/2000/svg\" height=\"24px\"viewBox=\"0 0 24 24\"\n",
              "     width=\"24px\">\n",
              "    <g>\n",
              "        <path d=\"M19 3H5c-1.1 0-2 .9-2 2v14c0 1.1.9 2 2 2h14c1.1 0 2-.9 2-2V5c0-1.1-.9-2-2-2zM9 17H7v-7h2v7zm4 0h-2V7h2v10zm4 0h-2v-4h2v4z\"/>\n",
              "    </g>\n",
              "</svg>\n",
              "  </button>\n",
              "\n",
              "<style>\n",
              "  .colab-df-quickchart {\n",
              "      --bg-color: #E8F0FE;\n",
              "      --fill-color: #1967D2;\n",
              "      --hover-bg-color: #E2EBFA;\n",
              "      --hover-fill-color: #174EA6;\n",
              "      --disabled-fill-color: #AAA;\n",
              "      --disabled-bg-color: #DDD;\n",
              "  }\n",
              "\n",
              "  [theme=dark] .colab-df-quickchart {\n",
              "      --bg-color: #3B4455;\n",
              "      --fill-color: #D2E3FC;\n",
              "      --hover-bg-color: #434B5C;\n",
              "      --hover-fill-color: #FFFFFF;\n",
              "      --disabled-bg-color: #3B4455;\n",
              "      --disabled-fill-color: #666;\n",
              "  }\n",
              "\n",
              "  .colab-df-quickchart {\n",
              "    background-color: var(--bg-color);\n",
              "    border: none;\n",
              "    border-radius: 50%;\n",
              "    cursor: pointer;\n",
              "    display: none;\n",
              "    fill: var(--fill-color);\n",
              "    height: 32px;\n",
              "    padding: 0;\n",
              "    width: 32px;\n",
              "  }\n",
              "\n",
              "  .colab-df-quickchart:hover {\n",
              "    background-color: var(--hover-bg-color);\n",
              "    box-shadow: 0 1px 2px rgba(60, 64, 67, 0.3), 0 1px 3px 1px rgba(60, 64, 67, 0.15);\n",
              "    fill: var(--button-hover-fill-color);\n",
              "  }\n",
              "\n",
              "  .colab-df-quickchart-complete:disabled,\n",
              "  .colab-df-quickchart-complete:disabled:hover {\n",
              "    background-color: var(--disabled-bg-color);\n",
              "    fill: var(--disabled-fill-color);\n",
              "    box-shadow: none;\n",
              "  }\n",
              "\n",
              "  .colab-df-spinner {\n",
              "    border: 2px solid var(--fill-color);\n",
              "    border-color: transparent;\n",
              "    border-bottom-color: var(--fill-color);\n",
              "    animation:\n",
              "      spin 1s steps(1) infinite;\n",
              "  }\n",
              "\n",
              "  @keyframes spin {\n",
              "    0% {\n",
              "      border-color: transparent;\n",
              "      border-bottom-color: var(--fill-color);\n",
              "      border-left-color: var(--fill-color);\n",
              "    }\n",
              "    20% {\n",
              "      border-color: transparent;\n",
              "      border-left-color: var(--fill-color);\n",
              "      border-top-color: var(--fill-color);\n",
              "    }\n",
              "    30% {\n",
              "      border-color: transparent;\n",
              "      border-left-color: var(--fill-color);\n",
              "      border-top-color: var(--fill-color);\n",
              "      border-right-color: var(--fill-color);\n",
              "    }\n",
              "    40% {\n",
              "      border-color: transparent;\n",
              "      border-right-color: var(--fill-color);\n",
              "      border-top-color: var(--fill-color);\n",
              "    }\n",
              "    60% {\n",
              "      border-color: transparent;\n",
              "      border-right-color: var(--fill-color);\n",
              "    }\n",
              "    80% {\n",
              "      border-color: transparent;\n",
              "      border-right-color: var(--fill-color);\n",
              "      border-bottom-color: var(--fill-color);\n",
              "    }\n",
              "    90% {\n",
              "      border-color: transparent;\n",
              "      border-bottom-color: var(--fill-color);\n",
              "    }\n",
              "  }\n",
              "</style>\n",
              "\n",
              "  <script>\n",
              "    async function quickchart(key) {\n",
              "      const quickchartButtonEl =\n",
              "        document.querySelector('#' + key + ' button');\n",
              "      quickchartButtonEl.disabled = true;  // To prevent multiple clicks.\n",
              "      quickchartButtonEl.classList.add('colab-df-spinner');\n",
              "      try {\n",
              "        const charts = await google.colab.kernel.invokeFunction(\n",
              "            'suggestCharts', [key], {});\n",
              "      } catch (error) {\n",
              "        console.error('Error during call to suggestCharts:', error);\n",
              "      }\n",
              "      quickchartButtonEl.classList.remove('colab-df-spinner');\n",
              "      quickchartButtonEl.classList.add('colab-df-quickchart-complete');\n",
              "    }\n",
              "    (() => {\n",
              "      let quickchartButtonEl =\n",
              "        document.querySelector('#df-e0ebef6b-f23d-4a03-891c-f33ddce459ea button');\n",
              "      quickchartButtonEl.style.display =\n",
              "        google.colab.kernel.accessAllowed ? 'block' : 'none';\n",
              "    })();\n",
              "  </script>\n",
              "</div>\n",
              "\n",
              "    </div>\n",
              "  </div>\n"
            ],
            "application/vnd.google.colaboratory.intrinsic+json": {
              "type": "dataframe",
              "variable_name": "df",
              "summary": "{\n  \"name\": \"df\",\n  \"rows\": 90829,\n  \"fields\": [\n    {\n      \"column\": \"est_diameter_min\",\n      \"properties\": {\n        \"dtype\": \"number\",\n        \"std\": 0.298522725410646,\n        \"min\": 0.0006089126,\n        \"max\": 37.8926498379,\n        \"num_unique_values\": 1638,\n        \"samples\": [\n          0.0075605776,\n          0.0032400744,\n          0.0232570687\n        ],\n        \"semantic_type\": \"\",\n        \"description\": \"\"\n      }\n    },\n    {\n      \"column\": \"est_diameter_max\",\n      \"properties\": {\n        \"dtype\": \"number\",\n        \"std\": 0.6675171068452911,\n        \"min\": 0.00136157,\n        \"max\": 84.7305408852,\n        \"num_unique_values\": 1638,\n        \"samples\": [\n          0.0169059655,\n          0.0072450265,\n          0.0520043867\n        ],\n        \"semantic_type\": \"\",\n        \"description\": \"\"\n      }\n    },\n    {\n      \"column\": \"relative_velocity\",\n      \"properties\": {\n        \"dtype\": \"number\",\n        \"std\": 25294.023004911087,\n        \"min\": 203.34643253,\n        \"max\": 236990.1280878666,\n        \"num_unique_values\": 90828,\n        \"samples\": [\n          24899.9202994279,\n          80827.3431270144,\n          38059.3864424538\n        ],\n        \"semantic_type\": \"\",\n        \"description\": \"\"\n      }\n    },\n    {\n      \"column\": \"miss_distance\",\n      \"properties\": {\n        \"dtype\": \"number\",\n        \"std\": 22351959.354997117,\n        \"min\": 6745.532515957,\n        \"max\": 74798651.4521972,\n        \"num_unique_values\": 90536,\n        \"samples\": [\n          38764558.55056069,\n          36020594.80550471,\n          8344535.573958611\n        ],\n        \"semantic_type\": \"\",\n        \"description\": \"\"\n      }\n    },\n    {\n      \"column\": \"absolute_magnitude\",\n      \"properties\": {\n        \"dtype\": \"number\",\n        \"std\": 2.8941362117460114,\n        \"min\": 9.23,\n        \"max\": 33.2,\n        \"num_unique_values\": 1638,\n        \"samples\": [\n          27.73,\n          29.57,\n          25.29\n        ],\n        \"semantic_type\": \"\",\n        \"description\": \"\"\n      }\n    },\n    {\n      \"column\": \"hazardous\",\n      \"properties\": {\n        \"dtype\": \"boolean\",\n        \"num_unique_values\": 2,\n        \"samples\": [\n          true,\n          false\n        ],\n        \"semantic_type\": \"\",\n        \"description\": \"\"\n      }\n    },\n    {\n      \"column\": \"label\",\n      \"properties\": {\n        \"dtype\": \"number\",\n        \"std\": 0,\n        \"min\": 0,\n        \"max\": 1,\n        \"num_unique_values\": 2,\n        \"samples\": [\n          1,\n          0\n        ],\n        \"semantic_type\": \"\",\n        \"description\": \"\"\n      }\n    }\n  ]\n}"
            }
          },
          "metadata": {},
          "execution_count": 32
        }
      ],
      "source": [
        "df.head()"
      ]
    },
    {
      "cell_type": "markdown",
      "id": "82619b64",
      "metadata": {
        "id": "82619b64"
      },
      "source": [
        "We categorized the unique values in the hazardous column and transferred them to a different column named label."
      ]
    },
    {
      "cell_type": "markdown",
      "source": [
        "### 2.6. Dealing with imbalanced dataset"
      ],
      "metadata": {
        "id": "TKLIBqvthlfm"
      },
      "id": "TKLIBqvthlfm"
    },
    {
      "cell_type": "markdown",
      "source": [
        "There are several strategies you can use to address this issue before training your Deep Neural Network (DNN) model:\n",
        "\n",
        "**Resampling**:\n",
        "\n",
        " - *Oversampling*: Increase the number of instances in the minority class by duplicating samples or generating synthetic data points.\n",
        " - *Undersampling*: Decrease the number of instances in the majority class by randomly removing some samples.\n",
        "\n",
        "**Weighted Loss Function**:\n",
        "\n",
        "Assign higher weights to the minority class during model training. This makes the model pay more attention to the minority class."
      ],
      "metadata": {
        "id": "Yd2rWCfLjMdd"
      },
      "id": "Yd2rWCfLjMdd"
    },
    {
      "cell_type": "markdown",
      "source": [
        "The resample function is then applied to the `minority_class`. This function duplicates samples from the minority class with replacement `(replace=True)` until it matches the number of samples in the majority class `(n_samples=len(majority_class))`. This effectively increases the representation of the minority class in the dataset."
      ],
      "metadata": {
        "id": "KyY7sYAKiAKS"
      },
      "id": "KyY7sYAKiAKS"
    },
    {
      "cell_type": "code",
      "source": [
        "minority_class = df[df['label'] == 1]\n",
        "majority_class = df[df['label'] == 0]\n",
        "minority_upsampled = resample(minority_class, replace=True, n_samples=len(majority_class), random_state=42)"
      ],
      "metadata": {
        "id": "xY6qzgl4iBI5"
      },
      "id": "xY6qzgl4iBI5",
      "execution_count": 33,
      "outputs": []
    },
    {
      "cell_type": "markdown",
      "source": [
        "The upsampled minority class, stored in minority_upsampled, is concatenated with the original majority class `(majority_class)` using pd.concat. This creates a new DataFrame called `balanced_df`, where both classes are balanced."
      ],
      "metadata": {
        "id": "pJh2xViKiIka"
      },
      "id": "pJh2xViKiIka"
    },
    {
      "cell_type": "code",
      "source": [
        "balanced_df = pd.concat([majority_class, minority_upsampled])"
      ],
      "metadata": {
        "id": "ZQ2Wwiv5iLwl"
      },
      "id": "ZQ2Wwiv5iLwl",
      "execution_count": 34,
      "outputs": []
    },
    {
      "cell_type": "markdown",
      "source": [
        "Shuffle the dataset."
      ],
      "metadata": {
        "id": "sBvtqKESiM7M"
      },
      "id": "sBvtqKESiM7M"
    },
    {
      "cell_type": "code",
      "source": [
        "balanced_df = balanced_df.sample(frac=1, random_state=42)\n",
        "balanced_df.head()"
      ],
      "metadata": {
        "colab": {
          "base_uri": "https://localhost:8080/",
          "height": 206
        },
        "id": "_8mzl-aTiWCv",
        "outputId": "c6fd13bd-1bb6-4dbf-c83c-daf41ee1ae7a"
      },
      "id": "_8mzl-aTiWCv",
      "execution_count": 35,
      "outputs": [
        {
          "output_type": "execute_result",
          "data": {
            "text/plain": [
              "       est_diameter_min  est_diameter_max  relative_velocity  miss_distance  \\\n",
              "34801          0.069913          0.156329       68591.570858   1.186216e+07   \n",
              "40405          0.036691          0.082043       64069.623017   4.467340e+07   \n",
              "51575          0.477040          1.066694       74822.876347   1.321325e+07   \n",
              "84469          0.031373          0.070152       11016.075416   2.326070e+07   \n",
              "41382          0.160160          0.358129       19482.422892   5.235652e+07   \n",
              "\n",
              "       absolute_magnitude  hazardous  label  \n",
              "34801               22.90      False      0  \n",
              "40405               24.30      False      0  \n",
              "51575               18.73       True      1  \n",
              "84469               24.64      False      0  \n",
              "41382               21.10      False      0  "
            ],
            "text/html": [
              "\n",
              "  <div id=\"df-a006a58b-78a4-4e3b-aca3-1343ff7cb34c\" class=\"colab-df-container\">\n",
              "    <div>\n",
              "<style scoped>\n",
              "    .dataframe tbody tr th:only-of-type {\n",
              "        vertical-align: middle;\n",
              "    }\n",
              "\n",
              "    .dataframe tbody tr th {\n",
              "        vertical-align: top;\n",
              "    }\n",
              "\n",
              "    .dataframe thead th {\n",
              "        text-align: right;\n",
              "    }\n",
              "</style>\n",
              "<table border=\"1\" class=\"dataframe\">\n",
              "  <thead>\n",
              "    <tr style=\"text-align: right;\">\n",
              "      <th></th>\n",
              "      <th>est_diameter_min</th>\n",
              "      <th>est_diameter_max</th>\n",
              "      <th>relative_velocity</th>\n",
              "      <th>miss_distance</th>\n",
              "      <th>absolute_magnitude</th>\n",
              "      <th>hazardous</th>\n",
              "      <th>label</th>\n",
              "    </tr>\n",
              "  </thead>\n",
              "  <tbody>\n",
              "    <tr>\n",
              "      <th>34801</th>\n",
              "      <td>0.069913</td>\n",
              "      <td>0.156329</td>\n",
              "      <td>68591.570858</td>\n",
              "      <td>1.186216e+07</td>\n",
              "      <td>22.90</td>\n",
              "      <td>False</td>\n",
              "      <td>0</td>\n",
              "    </tr>\n",
              "    <tr>\n",
              "      <th>40405</th>\n",
              "      <td>0.036691</td>\n",
              "      <td>0.082043</td>\n",
              "      <td>64069.623017</td>\n",
              "      <td>4.467340e+07</td>\n",
              "      <td>24.30</td>\n",
              "      <td>False</td>\n",
              "      <td>0</td>\n",
              "    </tr>\n",
              "    <tr>\n",
              "      <th>51575</th>\n",
              "      <td>0.477040</td>\n",
              "      <td>1.066694</td>\n",
              "      <td>74822.876347</td>\n",
              "      <td>1.321325e+07</td>\n",
              "      <td>18.73</td>\n",
              "      <td>True</td>\n",
              "      <td>1</td>\n",
              "    </tr>\n",
              "    <tr>\n",
              "      <th>84469</th>\n",
              "      <td>0.031373</td>\n",
              "      <td>0.070152</td>\n",
              "      <td>11016.075416</td>\n",
              "      <td>2.326070e+07</td>\n",
              "      <td>24.64</td>\n",
              "      <td>False</td>\n",
              "      <td>0</td>\n",
              "    </tr>\n",
              "    <tr>\n",
              "      <th>41382</th>\n",
              "      <td>0.160160</td>\n",
              "      <td>0.358129</td>\n",
              "      <td>19482.422892</td>\n",
              "      <td>5.235652e+07</td>\n",
              "      <td>21.10</td>\n",
              "      <td>False</td>\n",
              "      <td>0</td>\n",
              "    </tr>\n",
              "  </tbody>\n",
              "</table>\n",
              "</div>\n",
              "    <div class=\"colab-df-buttons\">\n",
              "\n",
              "  <div class=\"colab-df-container\">\n",
              "    <button class=\"colab-df-convert\" onclick=\"convertToInteractive('df-a006a58b-78a4-4e3b-aca3-1343ff7cb34c')\"\n",
              "            title=\"Convert this dataframe to an interactive table.\"\n",
              "            style=\"display:none;\">\n",
              "\n",
              "  <svg xmlns=\"http://www.w3.org/2000/svg\" height=\"24px\" viewBox=\"0 -960 960 960\">\n",
              "    <path d=\"M120-120v-720h720v720H120Zm60-500h600v-160H180v160Zm220 220h160v-160H400v160Zm0 220h160v-160H400v160ZM180-400h160v-160H180v160Zm440 0h160v-160H620v160ZM180-180h160v-160H180v160Zm440 0h160v-160H620v160Z\"/>\n",
              "  </svg>\n",
              "    </button>\n",
              "\n",
              "  <style>\n",
              "    .colab-df-container {\n",
              "      display:flex;\n",
              "      gap: 12px;\n",
              "    }\n",
              "\n",
              "    .colab-df-convert {\n",
              "      background-color: #E8F0FE;\n",
              "      border: none;\n",
              "      border-radius: 50%;\n",
              "      cursor: pointer;\n",
              "      display: none;\n",
              "      fill: #1967D2;\n",
              "      height: 32px;\n",
              "      padding: 0 0 0 0;\n",
              "      width: 32px;\n",
              "    }\n",
              "\n",
              "    .colab-df-convert:hover {\n",
              "      background-color: #E2EBFA;\n",
              "      box-shadow: 0px 1px 2px rgba(60, 64, 67, 0.3), 0px 1px 3px 1px rgba(60, 64, 67, 0.15);\n",
              "      fill: #174EA6;\n",
              "    }\n",
              "\n",
              "    .colab-df-buttons div {\n",
              "      margin-bottom: 4px;\n",
              "    }\n",
              "\n",
              "    [theme=dark] .colab-df-convert {\n",
              "      background-color: #3B4455;\n",
              "      fill: #D2E3FC;\n",
              "    }\n",
              "\n",
              "    [theme=dark] .colab-df-convert:hover {\n",
              "      background-color: #434B5C;\n",
              "      box-shadow: 0px 1px 3px 1px rgba(0, 0, 0, 0.15);\n",
              "      filter: drop-shadow(0px 1px 2px rgba(0, 0, 0, 0.3));\n",
              "      fill: #FFFFFF;\n",
              "    }\n",
              "  </style>\n",
              "\n",
              "    <script>\n",
              "      const buttonEl =\n",
              "        document.querySelector('#df-a006a58b-78a4-4e3b-aca3-1343ff7cb34c button.colab-df-convert');\n",
              "      buttonEl.style.display =\n",
              "        google.colab.kernel.accessAllowed ? 'block' : 'none';\n",
              "\n",
              "      async function convertToInteractive(key) {\n",
              "        const element = document.querySelector('#df-a006a58b-78a4-4e3b-aca3-1343ff7cb34c');\n",
              "        const dataTable =\n",
              "          await google.colab.kernel.invokeFunction('convertToInteractive',\n",
              "                                                    [key], {});\n",
              "        if (!dataTable) return;\n",
              "\n",
              "        const docLinkHtml = 'Like what you see? Visit the ' +\n",
              "          '<a target=\"_blank\" href=https://colab.research.google.com/notebooks/data_table.ipynb>data table notebook</a>'\n",
              "          + ' to learn more about interactive tables.';\n",
              "        element.innerHTML = '';\n",
              "        dataTable['output_type'] = 'display_data';\n",
              "        await google.colab.output.renderOutput(dataTable, element);\n",
              "        const docLink = document.createElement('div');\n",
              "        docLink.innerHTML = docLinkHtml;\n",
              "        element.appendChild(docLink);\n",
              "      }\n",
              "    </script>\n",
              "  </div>\n",
              "\n",
              "\n",
              "<div id=\"df-69441498-a885-4f51-82ed-fd3fad1f09a1\">\n",
              "  <button class=\"colab-df-quickchart\" onclick=\"quickchart('df-69441498-a885-4f51-82ed-fd3fad1f09a1')\"\n",
              "            title=\"Suggest charts\"\n",
              "            style=\"display:none;\">\n",
              "\n",
              "<svg xmlns=\"http://www.w3.org/2000/svg\" height=\"24px\"viewBox=\"0 0 24 24\"\n",
              "     width=\"24px\">\n",
              "    <g>\n",
              "        <path d=\"M19 3H5c-1.1 0-2 .9-2 2v14c0 1.1.9 2 2 2h14c1.1 0 2-.9 2-2V5c0-1.1-.9-2-2-2zM9 17H7v-7h2v7zm4 0h-2V7h2v10zm4 0h-2v-4h2v4z\"/>\n",
              "    </g>\n",
              "</svg>\n",
              "  </button>\n",
              "\n",
              "<style>\n",
              "  .colab-df-quickchart {\n",
              "      --bg-color: #E8F0FE;\n",
              "      --fill-color: #1967D2;\n",
              "      --hover-bg-color: #E2EBFA;\n",
              "      --hover-fill-color: #174EA6;\n",
              "      --disabled-fill-color: #AAA;\n",
              "      --disabled-bg-color: #DDD;\n",
              "  }\n",
              "\n",
              "  [theme=dark] .colab-df-quickchart {\n",
              "      --bg-color: #3B4455;\n",
              "      --fill-color: #D2E3FC;\n",
              "      --hover-bg-color: #434B5C;\n",
              "      --hover-fill-color: #FFFFFF;\n",
              "      --disabled-bg-color: #3B4455;\n",
              "      --disabled-fill-color: #666;\n",
              "  }\n",
              "\n",
              "  .colab-df-quickchart {\n",
              "    background-color: var(--bg-color);\n",
              "    border: none;\n",
              "    border-radius: 50%;\n",
              "    cursor: pointer;\n",
              "    display: none;\n",
              "    fill: var(--fill-color);\n",
              "    height: 32px;\n",
              "    padding: 0;\n",
              "    width: 32px;\n",
              "  }\n",
              "\n",
              "  .colab-df-quickchart:hover {\n",
              "    background-color: var(--hover-bg-color);\n",
              "    box-shadow: 0 1px 2px rgba(60, 64, 67, 0.3), 0 1px 3px 1px rgba(60, 64, 67, 0.15);\n",
              "    fill: var(--button-hover-fill-color);\n",
              "  }\n",
              "\n",
              "  .colab-df-quickchart-complete:disabled,\n",
              "  .colab-df-quickchart-complete:disabled:hover {\n",
              "    background-color: var(--disabled-bg-color);\n",
              "    fill: var(--disabled-fill-color);\n",
              "    box-shadow: none;\n",
              "  }\n",
              "\n",
              "  .colab-df-spinner {\n",
              "    border: 2px solid var(--fill-color);\n",
              "    border-color: transparent;\n",
              "    border-bottom-color: var(--fill-color);\n",
              "    animation:\n",
              "      spin 1s steps(1) infinite;\n",
              "  }\n",
              "\n",
              "  @keyframes spin {\n",
              "    0% {\n",
              "      border-color: transparent;\n",
              "      border-bottom-color: var(--fill-color);\n",
              "      border-left-color: var(--fill-color);\n",
              "    }\n",
              "    20% {\n",
              "      border-color: transparent;\n",
              "      border-left-color: var(--fill-color);\n",
              "      border-top-color: var(--fill-color);\n",
              "    }\n",
              "    30% {\n",
              "      border-color: transparent;\n",
              "      border-left-color: var(--fill-color);\n",
              "      border-top-color: var(--fill-color);\n",
              "      border-right-color: var(--fill-color);\n",
              "    }\n",
              "    40% {\n",
              "      border-color: transparent;\n",
              "      border-right-color: var(--fill-color);\n",
              "      border-top-color: var(--fill-color);\n",
              "    }\n",
              "    60% {\n",
              "      border-color: transparent;\n",
              "      border-right-color: var(--fill-color);\n",
              "    }\n",
              "    80% {\n",
              "      border-color: transparent;\n",
              "      border-right-color: var(--fill-color);\n",
              "      border-bottom-color: var(--fill-color);\n",
              "    }\n",
              "    90% {\n",
              "      border-color: transparent;\n",
              "      border-bottom-color: var(--fill-color);\n",
              "    }\n",
              "  }\n",
              "</style>\n",
              "\n",
              "  <script>\n",
              "    async function quickchart(key) {\n",
              "      const quickchartButtonEl =\n",
              "        document.querySelector('#' + key + ' button');\n",
              "      quickchartButtonEl.disabled = true;  // To prevent multiple clicks.\n",
              "      quickchartButtonEl.classList.add('colab-df-spinner');\n",
              "      try {\n",
              "        const charts = await google.colab.kernel.invokeFunction(\n",
              "            'suggestCharts', [key], {});\n",
              "      } catch (error) {\n",
              "        console.error('Error during call to suggestCharts:', error);\n",
              "      }\n",
              "      quickchartButtonEl.classList.remove('colab-df-spinner');\n",
              "      quickchartButtonEl.classList.add('colab-df-quickchart-complete');\n",
              "    }\n",
              "    (() => {\n",
              "      let quickchartButtonEl =\n",
              "        document.querySelector('#df-69441498-a885-4f51-82ed-fd3fad1f09a1 button');\n",
              "      quickchartButtonEl.style.display =\n",
              "        google.colab.kernel.accessAllowed ? 'block' : 'none';\n",
              "    })();\n",
              "  </script>\n",
              "</div>\n",
              "\n",
              "    </div>\n",
              "  </div>\n"
            ],
            "application/vnd.google.colaboratory.intrinsic+json": {
              "type": "dataframe",
              "variable_name": "balanced_df"
            }
          },
          "metadata": {},
          "execution_count": 35
        }
      ]
    },
    {
      "cell_type": "code",
      "source": [
        "balanced_df.shape"
      ],
      "metadata": {
        "colab": {
          "base_uri": "https://localhost:8080/"
        },
        "id": "5aeAPuqgisZH",
        "outputId": "562e0dba-bcc3-421e-deb8-1a6e3f080626"
      },
      "id": "5aeAPuqgisZH",
      "execution_count": 36,
      "outputs": [
        {
          "output_type": "execute_result",
          "data": {
            "text/plain": [
              "(163992, 7)"
            ]
          },
          "metadata": {},
          "execution_count": 36
        }
      ]
    },
    {
      "cell_type": "markdown",
      "source": [
        "After these steps, `balanced_df` contains a balanced dataset with an equal number of samples for each class. This balanced dataset can be used for training machine learning models, such as your DNN, to mitigate the issues caused by class imbalance and potentially improve the model's performance on the minority class."
      ],
      "metadata": {
        "id": "PJTukjH9jjtK"
      },
      "id": "PJTukjH9jjtK"
    },
    {
      "cell_type": "markdown",
      "id": "8653f91e",
      "metadata": {
        "id": "8653f91e"
      },
      "source": [
        "### 2.6. Determination of dependent and independent variables\n",
        "\n",
        "<p>To build model and make prediction, we need to seperate our data as dependent and independent variables."
      ]
    },
    {
      "cell_type": "code",
      "execution_count": 37,
      "id": "9e25d50a",
      "metadata": {
        "id": "9e25d50a"
      },
      "outputs": [],
      "source": [
        "X = balanced_df.drop([\"label\", \"hazardous\"], axis = 1)\n",
        "y = balanced_df[\"label\"]"
      ]
    },
    {
      "cell_type": "markdown",
      "id": "b3664892",
      "metadata": {
        "id": "b3664892"
      },
      "source": [
        "<b>Independent variables</b>"
      ]
    },
    {
      "cell_type": "code",
      "execution_count": 38,
      "id": "f5dce450",
      "metadata": {
        "id": "f5dce450",
        "outputId": "aa802b2a-1bd5-4974-b067-ed5abcf3a64d",
        "colab": {
          "base_uri": "https://localhost:8080/",
          "height": 424
        }
      },
      "outputs": [
        {
          "output_type": "execute_result",
          "data": {
            "text/plain": [
              "       est_diameter_min  est_diameter_max  relative_velocity  miss_distance  \\\n",
              "34801          0.069913          0.156329       68591.570858   1.186216e+07   \n",
              "40405          0.036691          0.082043       64069.623017   4.467340e+07   \n",
              "51575          0.477040          1.066694       74822.876347   1.321325e+07   \n",
              "84469          0.031373          0.070152       11016.075416   2.326070e+07   \n",
              "41382          0.160160          0.358129       19482.422892   5.235652e+07   \n",
              "...                 ...               ...                ...            ...   \n",
              "28097          0.121494          0.271669       61228.035266   7.419592e+07   \n",
              "6338           0.201630          0.450858       53077.570866   4.351202e+07   \n",
              "65169          0.121494          0.271669       32903.560475   2.869810e+07   \n",
              "6656           0.133216          0.297879       30220.078200   5.609021e+07   \n",
              "19552          0.183889          0.411188       23063.648860   3.046189e+07   \n",
              "\n",
              "       absolute_magnitude  \n",
              "34801               22.90  \n",
              "40405               24.30  \n",
              "51575               18.73  \n",
              "84469               24.64  \n",
              "41382               21.10  \n",
              "...                   ...  \n",
              "28097               21.70  \n",
              "6338                20.60  \n",
              "65169               21.70  \n",
              "6656                21.50  \n",
              "19552               20.80  \n",
              "\n",
              "[163992 rows x 5 columns]"
            ],
            "text/html": [
              "\n",
              "  <div id=\"df-95d794df-f150-4fd9-bac8-8d5b36eb5aef\" class=\"colab-df-container\">\n",
              "    <div>\n",
              "<style scoped>\n",
              "    .dataframe tbody tr th:only-of-type {\n",
              "        vertical-align: middle;\n",
              "    }\n",
              "\n",
              "    .dataframe tbody tr th {\n",
              "        vertical-align: top;\n",
              "    }\n",
              "\n",
              "    .dataframe thead th {\n",
              "        text-align: right;\n",
              "    }\n",
              "</style>\n",
              "<table border=\"1\" class=\"dataframe\">\n",
              "  <thead>\n",
              "    <tr style=\"text-align: right;\">\n",
              "      <th></th>\n",
              "      <th>est_diameter_min</th>\n",
              "      <th>est_diameter_max</th>\n",
              "      <th>relative_velocity</th>\n",
              "      <th>miss_distance</th>\n",
              "      <th>absolute_magnitude</th>\n",
              "    </tr>\n",
              "  </thead>\n",
              "  <tbody>\n",
              "    <tr>\n",
              "      <th>34801</th>\n",
              "      <td>0.069913</td>\n",
              "      <td>0.156329</td>\n",
              "      <td>68591.570858</td>\n",
              "      <td>1.186216e+07</td>\n",
              "      <td>22.90</td>\n",
              "    </tr>\n",
              "    <tr>\n",
              "      <th>40405</th>\n",
              "      <td>0.036691</td>\n",
              "      <td>0.082043</td>\n",
              "      <td>64069.623017</td>\n",
              "      <td>4.467340e+07</td>\n",
              "      <td>24.30</td>\n",
              "    </tr>\n",
              "    <tr>\n",
              "      <th>51575</th>\n",
              "      <td>0.477040</td>\n",
              "      <td>1.066694</td>\n",
              "      <td>74822.876347</td>\n",
              "      <td>1.321325e+07</td>\n",
              "      <td>18.73</td>\n",
              "    </tr>\n",
              "    <tr>\n",
              "      <th>84469</th>\n",
              "      <td>0.031373</td>\n",
              "      <td>0.070152</td>\n",
              "      <td>11016.075416</td>\n",
              "      <td>2.326070e+07</td>\n",
              "      <td>24.64</td>\n",
              "    </tr>\n",
              "    <tr>\n",
              "      <th>41382</th>\n",
              "      <td>0.160160</td>\n",
              "      <td>0.358129</td>\n",
              "      <td>19482.422892</td>\n",
              "      <td>5.235652e+07</td>\n",
              "      <td>21.10</td>\n",
              "    </tr>\n",
              "    <tr>\n",
              "      <th>...</th>\n",
              "      <td>...</td>\n",
              "      <td>...</td>\n",
              "      <td>...</td>\n",
              "      <td>...</td>\n",
              "      <td>...</td>\n",
              "    </tr>\n",
              "    <tr>\n",
              "      <th>28097</th>\n",
              "      <td>0.121494</td>\n",
              "      <td>0.271669</td>\n",
              "      <td>61228.035266</td>\n",
              "      <td>7.419592e+07</td>\n",
              "      <td>21.70</td>\n",
              "    </tr>\n",
              "    <tr>\n",
              "      <th>6338</th>\n",
              "      <td>0.201630</td>\n",
              "      <td>0.450858</td>\n",
              "      <td>53077.570866</td>\n",
              "      <td>4.351202e+07</td>\n",
              "      <td>20.60</td>\n",
              "    </tr>\n",
              "    <tr>\n",
              "      <th>65169</th>\n",
              "      <td>0.121494</td>\n",
              "      <td>0.271669</td>\n",
              "      <td>32903.560475</td>\n",
              "      <td>2.869810e+07</td>\n",
              "      <td>21.70</td>\n",
              "    </tr>\n",
              "    <tr>\n",
              "      <th>6656</th>\n",
              "      <td>0.133216</td>\n",
              "      <td>0.297879</td>\n",
              "      <td>30220.078200</td>\n",
              "      <td>5.609021e+07</td>\n",
              "      <td>21.50</td>\n",
              "    </tr>\n",
              "    <tr>\n",
              "      <th>19552</th>\n",
              "      <td>0.183889</td>\n",
              "      <td>0.411188</td>\n",
              "      <td>23063.648860</td>\n",
              "      <td>3.046189e+07</td>\n",
              "      <td>20.80</td>\n",
              "    </tr>\n",
              "  </tbody>\n",
              "</table>\n",
              "<p>163992 rows × 5 columns</p>\n",
              "</div>\n",
              "    <div class=\"colab-df-buttons\">\n",
              "\n",
              "  <div class=\"colab-df-container\">\n",
              "    <button class=\"colab-df-convert\" onclick=\"convertToInteractive('df-95d794df-f150-4fd9-bac8-8d5b36eb5aef')\"\n",
              "            title=\"Convert this dataframe to an interactive table.\"\n",
              "            style=\"display:none;\">\n",
              "\n",
              "  <svg xmlns=\"http://www.w3.org/2000/svg\" height=\"24px\" viewBox=\"0 -960 960 960\">\n",
              "    <path d=\"M120-120v-720h720v720H120Zm60-500h600v-160H180v160Zm220 220h160v-160H400v160Zm0 220h160v-160H400v160ZM180-400h160v-160H180v160Zm440 0h160v-160H620v160ZM180-180h160v-160H180v160Zm440 0h160v-160H620v160Z\"/>\n",
              "  </svg>\n",
              "    </button>\n",
              "\n",
              "  <style>\n",
              "    .colab-df-container {\n",
              "      display:flex;\n",
              "      gap: 12px;\n",
              "    }\n",
              "\n",
              "    .colab-df-convert {\n",
              "      background-color: #E8F0FE;\n",
              "      border: none;\n",
              "      border-radius: 50%;\n",
              "      cursor: pointer;\n",
              "      display: none;\n",
              "      fill: #1967D2;\n",
              "      height: 32px;\n",
              "      padding: 0 0 0 0;\n",
              "      width: 32px;\n",
              "    }\n",
              "\n",
              "    .colab-df-convert:hover {\n",
              "      background-color: #E2EBFA;\n",
              "      box-shadow: 0px 1px 2px rgba(60, 64, 67, 0.3), 0px 1px 3px 1px rgba(60, 64, 67, 0.15);\n",
              "      fill: #174EA6;\n",
              "    }\n",
              "\n",
              "    .colab-df-buttons div {\n",
              "      margin-bottom: 4px;\n",
              "    }\n",
              "\n",
              "    [theme=dark] .colab-df-convert {\n",
              "      background-color: #3B4455;\n",
              "      fill: #D2E3FC;\n",
              "    }\n",
              "\n",
              "    [theme=dark] .colab-df-convert:hover {\n",
              "      background-color: #434B5C;\n",
              "      box-shadow: 0px 1px 3px 1px rgba(0, 0, 0, 0.15);\n",
              "      filter: drop-shadow(0px 1px 2px rgba(0, 0, 0, 0.3));\n",
              "      fill: #FFFFFF;\n",
              "    }\n",
              "  </style>\n",
              "\n",
              "    <script>\n",
              "      const buttonEl =\n",
              "        document.querySelector('#df-95d794df-f150-4fd9-bac8-8d5b36eb5aef button.colab-df-convert');\n",
              "      buttonEl.style.display =\n",
              "        google.colab.kernel.accessAllowed ? 'block' : 'none';\n",
              "\n",
              "      async function convertToInteractive(key) {\n",
              "        const element = document.querySelector('#df-95d794df-f150-4fd9-bac8-8d5b36eb5aef');\n",
              "        const dataTable =\n",
              "          await google.colab.kernel.invokeFunction('convertToInteractive',\n",
              "                                                    [key], {});\n",
              "        if (!dataTable) return;\n",
              "\n",
              "        const docLinkHtml = 'Like what you see? Visit the ' +\n",
              "          '<a target=\"_blank\" href=https://colab.research.google.com/notebooks/data_table.ipynb>data table notebook</a>'\n",
              "          + ' to learn more about interactive tables.';\n",
              "        element.innerHTML = '';\n",
              "        dataTable['output_type'] = 'display_data';\n",
              "        await google.colab.output.renderOutput(dataTable, element);\n",
              "        const docLink = document.createElement('div');\n",
              "        docLink.innerHTML = docLinkHtml;\n",
              "        element.appendChild(docLink);\n",
              "      }\n",
              "    </script>\n",
              "  </div>\n",
              "\n",
              "\n",
              "<div id=\"df-7b48addf-9ebb-4d23-aeda-3aace0344690\">\n",
              "  <button class=\"colab-df-quickchart\" onclick=\"quickchart('df-7b48addf-9ebb-4d23-aeda-3aace0344690')\"\n",
              "            title=\"Suggest charts\"\n",
              "            style=\"display:none;\">\n",
              "\n",
              "<svg xmlns=\"http://www.w3.org/2000/svg\" height=\"24px\"viewBox=\"0 0 24 24\"\n",
              "     width=\"24px\">\n",
              "    <g>\n",
              "        <path d=\"M19 3H5c-1.1 0-2 .9-2 2v14c0 1.1.9 2 2 2h14c1.1 0 2-.9 2-2V5c0-1.1-.9-2-2-2zM9 17H7v-7h2v7zm4 0h-2V7h2v10zm4 0h-2v-4h2v4z\"/>\n",
              "    </g>\n",
              "</svg>\n",
              "  </button>\n",
              "\n",
              "<style>\n",
              "  .colab-df-quickchart {\n",
              "      --bg-color: #E8F0FE;\n",
              "      --fill-color: #1967D2;\n",
              "      --hover-bg-color: #E2EBFA;\n",
              "      --hover-fill-color: #174EA6;\n",
              "      --disabled-fill-color: #AAA;\n",
              "      --disabled-bg-color: #DDD;\n",
              "  }\n",
              "\n",
              "  [theme=dark] .colab-df-quickchart {\n",
              "      --bg-color: #3B4455;\n",
              "      --fill-color: #D2E3FC;\n",
              "      --hover-bg-color: #434B5C;\n",
              "      --hover-fill-color: #FFFFFF;\n",
              "      --disabled-bg-color: #3B4455;\n",
              "      --disabled-fill-color: #666;\n",
              "  }\n",
              "\n",
              "  .colab-df-quickchart {\n",
              "    background-color: var(--bg-color);\n",
              "    border: none;\n",
              "    border-radius: 50%;\n",
              "    cursor: pointer;\n",
              "    display: none;\n",
              "    fill: var(--fill-color);\n",
              "    height: 32px;\n",
              "    padding: 0;\n",
              "    width: 32px;\n",
              "  }\n",
              "\n",
              "  .colab-df-quickchart:hover {\n",
              "    background-color: var(--hover-bg-color);\n",
              "    box-shadow: 0 1px 2px rgba(60, 64, 67, 0.3), 0 1px 3px 1px rgba(60, 64, 67, 0.15);\n",
              "    fill: var(--button-hover-fill-color);\n",
              "  }\n",
              "\n",
              "  .colab-df-quickchart-complete:disabled,\n",
              "  .colab-df-quickchart-complete:disabled:hover {\n",
              "    background-color: var(--disabled-bg-color);\n",
              "    fill: var(--disabled-fill-color);\n",
              "    box-shadow: none;\n",
              "  }\n",
              "\n",
              "  .colab-df-spinner {\n",
              "    border: 2px solid var(--fill-color);\n",
              "    border-color: transparent;\n",
              "    border-bottom-color: var(--fill-color);\n",
              "    animation:\n",
              "      spin 1s steps(1) infinite;\n",
              "  }\n",
              "\n",
              "  @keyframes spin {\n",
              "    0% {\n",
              "      border-color: transparent;\n",
              "      border-bottom-color: var(--fill-color);\n",
              "      border-left-color: var(--fill-color);\n",
              "    }\n",
              "    20% {\n",
              "      border-color: transparent;\n",
              "      border-left-color: var(--fill-color);\n",
              "      border-top-color: var(--fill-color);\n",
              "    }\n",
              "    30% {\n",
              "      border-color: transparent;\n",
              "      border-left-color: var(--fill-color);\n",
              "      border-top-color: var(--fill-color);\n",
              "      border-right-color: var(--fill-color);\n",
              "    }\n",
              "    40% {\n",
              "      border-color: transparent;\n",
              "      border-right-color: var(--fill-color);\n",
              "      border-top-color: var(--fill-color);\n",
              "    }\n",
              "    60% {\n",
              "      border-color: transparent;\n",
              "      border-right-color: var(--fill-color);\n",
              "    }\n",
              "    80% {\n",
              "      border-color: transparent;\n",
              "      border-right-color: var(--fill-color);\n",
              "      border-bottom-color: var(--fill-color);\n",
              "    }\n",
              "    90% {\n",
              "      border-color: transparent;\n",
              "      border-bottom-color: var(--fill-color);\n",
              "    }\n",
              "  }\n",
              "</style>\n",
              "\n",
              "  <script>\n",
              "    async function quickchart(key) {\n",
              "      const quickchartButtonEl =\n",
              "        document.querySelector('#' + key + ' button');\n",
              "      quickchartButtonEl.disabled = true;  // To prevent multiple clicks.\n",
              "      quickchartButtonEl.classList.add('colab-df-spinner');\n",
              "      try {\n",
              "        const charts = await google.colab.kernel.invokeFunction(\n",
              "            'suggestCharts', [key], {});\n",
              "      } catch (error) {\n",
              "        console.error('Error during call to suggestCharts:', error);\n",
              "      }\n",
              "      quickchartButtonEl.classList.remove('colab-df-spinner');\n",
              "      quickchartButtonEl.classList.add('colab-df-quickchart-complete');\n",
              "    }\n",
              "    (() => {\n",
              "      let quickchartButtonEl =\n",
              "        document.querySelector('#df-7b48addf-9ebb-4d23-aeda-3aace0344690 button');\n",
              "      quickchartButtonEl.style.display =\n",
              "        google.colab.kernel.accessAllowed ? 'block' : 'none';\n",
              "    })();\n",
              "  </script>\n",
              "</div>\n",
              "\n",
              "  <div id=\"id_386ce255-1860-4770-90be-8f31702d7dcb\">\n",
              "    <style>\n",
              "      .colab-df-generate {\n",
              "        background-color: #E8F0FE;\n",
              "        border: none;\n",
              "        border-radius: 50%;\n",
              "        cursor: pointer;\n",
              "        display: none;\n",
              "        fill: #1967D2;\n",
              "        height: 32px;\n",
              "        padding: 0 0 0 0;\n",
              "        width: 32px;\n",
              "      }\n",
              "\n",
              "      .colab-df-generate:hover {\n",
              "        background-color: #E2EBFA;\n",
              "        box-shadow: 0px 1px 2px rgba(60, 64, 67, 0.3), 0px 1px 3px 1px rgba(60, 64, 67, 0.15);\n",
              "        fill: #174EA6;\n",
              "      }\n",
              "\n",
              "      [theme=dark] .colab-df-generate {\n",
              "        background-color: #3B4455;\n",
              "        fill: #D2E3FC;\n",
              "      }\n",
              "\n",
              "      [theme=dark] .colab-df-generate:hover {\n",
              "        background-color: #434B5C;\n",
              "        box-shadow: 0px 1px 3px 1px rgba(0, 0, 0, 0.15);\n",
              "        filter: drop-shadow(0px 1px 2px rgba(0, 0, 0, 0.3));\n",
              "        fill: #FFFFFF;\n",
              "      }\n",
              "    </style>\n",
              "    <button class=\"colab-df-generate\" onclick=\"generateWithVariable('X')\"\n",
              "            title=\"Generate code using this dataframe.\"\n",
              "            style=\"display:none;\">\n",
              "\n",
              "  <svg xmlns=\"http://www.w3.org/2000/svg\" height=\"24px\"viewBox=\"0 0 24 24\"\n",
              "       width=\"24px\">\n",
              "    <path d=\"M7,19H8.4L18.45,9,17,7.55,7,17.6ZM5,21V16.75L18.45,3.32a2,2,0,0,1,2.83,0l1.4,1.43a1.91,1.91,0,0,1,.58,1.4,1.91,1.91,0,0,1-.58,1.4L9.25,21ZM18.45,9,17,7.55Zm-12,3A5.31,5.31,0,0,0,4.9,8.1,5.31,5.31,0,0,0,1,6.5,5.31,5.31,0,0,0,4.9,4.9,5.31,5.31,0,0,0,6.5,1,5.31,5.31,0,0,0,8.1,4.9,5.31,5.31,0,0,0,12,6.5,5.46,5.46,0,0,0,6.5,12Z\"/>\n",
              "  </svg>\n",
              "    </button>\n",
              "    <script>\n",
              "      (() => {\n",
              "      const buttonEl =\n",
              "        document.querySelector('#id_386ce255-1860-4770-90be-8f31702d7dcb button.colab-df-generate');\n",
              "      buttonEl.style.display =\n",
              "        google.colab.kernel.accessAllowed ? 'block' : 'none';\n",
              "\n",
              "      buttonEl.onclick = () => {\n",
              "        google.colab.notebook.generateWithVariable('X');\n",
              "      }\n",
              "      })();\n",
              "    </script>\n",
              "  </div>\n",
              "\n",
              "    </div>\n",
              "  </div>\n"
            ],
            "application/vnd.google.colaboratory.intrinsic+json": {
              "type": "dataframe",
              "variable_name": "X"
            }
          },
          "metadata": {},
          "execution_count": 38
        }
      ],
      "source": [
        "X"
      ]
    },
    {
      "cell_type": "markdown",
      "id": "c62367d0",
      "metadata": {
        "id": "c62367d0"
      },
      "source": [
        "<b>Dependent variables</b>"
      ]
    },
    {
      "cell_type": "code",
      "execution_count": 39,
      "id": "445149c6",
      "metadata": {
        "id": "445149c6",
        "outputId": "361707bc-5871-4a6c-93ac-1d7ef64f9f92",
        "colab": {
          "base_uri": "https://localhost:8080/"
        }
      },
      "outputs": [
        {
          "output_type": "execute_result",
          "data": {
            "text/plain": [
              "34801    0\n",
              "40405    0\n",
              "51575    1\n",
              "84469    0\n",
              "41382    0\n",
              "        ..\n",
              "28097    1\n",
              "6338     1\n",
              "65169    1\n",
              "6656     1\n",
              "19552    1\n",
              "Name: label, Length: 163992, dtype: int64"
            ]
          },
          "metadata": {},
          "execution_count": 39
        }
      ],
      "source": [
        "y"
      ]
    },
    {
      "cell_type": "markdown",
      "id": "4bf094de",
      "metadata": {
        "id": "4bf094de"
      },
      "source": [
        "### 2.7. Splitting test and train\n",
        "\n",
        "<p>The train-test split is a technique for evaluating the performance of a machine learning algorithm. Seperated %66.6 for train and %33.3 for test set.</p>"
      ]
    },
    {
      "cell_type": "code",
      "execution_count": 40,
      "id": "875b7dda",
      "metadata": {
        "id": "875b7dda"
      },
      "outputs": [],
      "source": [
        "from sklearn.model_selection import train_test_split\n",
        "\n",
        "x_train, x_temp, y_train, y_temp = train_test_split(X, y, test_size=0.33, random_state=0)\n",
        "x_test, x_val, y_test, y_val = train_test_split(x_temp, y_temp, test_size=0.175, random_state=0)"
      ]
    },
    {
      "cell_type": "code",
      "execution_count": 41,
      "id": "f83dbf9e",
      "metadata": {
        "id": "f83dbf9e",
        "outputId": "700f423e-41c0-4321-f703-271f8084cddc",
        "colab": {
          "base_uri": "https://localhost:8080/"
        }
      },
      "outputs": [
        {
          "output_type": "stream",
          "name": "stdout",
          "text": [
            "(109874, 5) (109874,)\n"
          ]
        }
      ],
      "source": [
        "print(x_train.shape, y_train.shape)"
      ]
    },
    {
      "cell_type": "code",
      "source": [
        "print(x_val.shape, y_val.shape)"
      ],
      "metadata": {
        "colab": {
          "base_uri": "https://localhost:8080/"
        },
        "id": "zEWmb9Nqn73n",
        "outputId": "39ea3318-8ec8-4747-cb03-3a333571247e"
      },
      "id": "zEWmb9Nqn73n",
      "execution_count": 42,
      "outputs": [
        {
          "output_type": "stream",
          "name": "stdout",
          "text": [
            "(9471, 5) (9471,)\n"
          ]
        }
      ]
    },
    {
      "cell_type": "code",
      "execution_count": 43,
      "id": "6e3a3b0c",
      "metadata": {
        "id": "6e3a3b0c",
        "outputId": "5d97d657-68dc-42d7-a733-11e517117f46",
        "colab": {
          "base_uri": "https://localhost:8080/"
        }
      },
      "outputs": [
        {
          "output_type": "stream",
          "name": "stdout",
          "text": [
            "(44647, 5) (44647,)\n"
          ]
        }
      ],
      "source": [
        "print(x_test.shape, y_test.shape)"
      ]
    },
    {
      "cell_type": "markdown",
      "id": "a8c6ae91",
      "metadata": {
        "id": "a8c6ae91"
      },
      "source": [
        "### 2.8. Scaling datas\n",
        "\n",
        "<p>This means that you're transforming your data so that it fits within a specific scale like 0-1.</p>"
      ]
    },
    {
      "cell_type": "code",
      "source": [
        "from sklearn.preprocessing import StandardScaler"
      ],
      "metadata": {
        "id": "eM6J0gsikUT5"
      },
      "id": "eM6J0gsikUT5",
      "execution_count": 44,
      "outputs": []
    },
    {
      "cell_type": "code",
      "execution_count": 45,
      "id": "8cc5db2a",
      "metadata": {
        "id": "8cc5db2a"
      },
      "outputs": [],
      "source": [
        "sc = StandardScaler()\n",
        "\n",
        "X_train = sc.fit_transform(x_train)\n",
        "X_test = sc.transform(x_test)\n",
        "X_val = sc.transform(x_val)"
      ]
    },
    {
      "cell_type": "markdown",
      "id": "84eeba0d",
      "metadata": {
        "id": "84eeba0d"
      },
      "source": [
        "<a id=\"ann\"></a>\n",
        "\n",
        "<h2 align=center><b>Building Artificial Neural Network Model for Classification</b></h2>\n",
        "\n",
        "<p>Artificial neural networks, usually simply called neural networks or, more simply yet, neural nets, are computing systems. Artificial Neural Networks (ANNs) are computational models inspired by the structure and function of the human brain. They are a subset of machine learning and deep learning techniques. For more, please check <a href=\"https://en.wikipedia.org/wiki/Artificial_neural_network\">Wikipedia</a>.</p>"
      ]
    },
    {
      "cell_type": "markdown",
      "id": "756b19f1",
      "metadata": {
        "id": "756b19f1"
      },
      "source": [
        "We can directly import our model with keras function <code>load_model</code>."
      ]
    },
    {
      "cell_type": "markdown",
      "source": [
        "### 3.1 Loading created model"
      ],
      "metadata": {
        "id": "h9NKlHnN3lRS"
      },
      "id": "h9NKlHnN3lRS"
    },
    {
      "cell_type": "code",
      "source": [
        "# from keras.models import load_model\n",
        "# model = load_model('model.h5')"
      ],
      "metadata": {
        "id": "rUy-sBLi3qnw"
      },
      "id": "rUy-sBLi3qnw",
      "execution_count": 46,
      "outputs": []
    },
    {
      "cell_type": "markdown",
      "source": [
        "### 3.2 Checking the architecture of the model"
      ],
      "metadata": {
        "id": "RN7r6yHq31_n"
      },
      "id": "RN7r6yHq31_n"
    },
    {
      "cell_type": "code",
      "source": [
        "# model.summary()"
      ],
      "metadata": {
        "id": "2SlJRRgZ36gZ"
      },
      "id": "2SlJRRgZ36gZ",
      "execution_count": 47,
      "outputs": []
    },
    {
      "cell_type": "markdown",
      "id": "cd422285",
      "metadata": {
        "id": "cd422285"
      },
      "source": [
        "### 3.3. Define neural network parameters\n",
        "\n",
        "<p>We have 5 dependent variables and we want 12 epochs in our model.</p>"
      ]
    },
    {
      "cell_type": "code",
      "execution_count": 48,
      "id": "10376394",
      "metadata": {
        "id": "10376394"
      },
      "outputs": [],
      "source": [
        "INPUT = X.shape[1]\n",
        "epoch = 16 # @param {type:\"integer\"}\n",
        "batch_size = 32 # @param {type:\"integer\"}"
      ]
    },
    {
      "cell_type": "markdown",
      "id": "a98122a0",
      "metadata": {
        "id": "a98122a0"
      },
      "source": [
        "### 3.4. Building Deep Neural Network (DNN)."
      ]
    },
    {
      "cell_type": "markdown",
      "source": [
        "- **ANN (Artificial Neural Network)**: This is a broad term referring to any neural network model, including shallow networks (those with a single hidden layer) and deep networks (those with multiple hidden layers).\n",
        "\n",
        "- **DNN (Deep Neural Network)**: This is a specific type of ANN characterized by having multiple hidden layers, making it deep. The model I provided in the code is an example of a DNN because it has multiple hidden layers (more than one hidden layer)."
      ],
      "metadata": {
        "id": "Gd4opgVjlz10"
      },
      "id": "Gd4opgVjlz10"
    },
    {
      "cell_type": "code",
      "execution_count": 49,
      "id": "e219c889",
      "metadata": {
        "id": "e219c889"
      },
      "outputs": [],
      "source": [
        "model = Sequential()\n",
        "\n",
        "model.add(Dense(64, activation=\"relu\", input_dim=INPUT))\n",
        "\n",
        "model.add(Dense(32, activation=\"relu\"))\n",
        "model.add(Dropout(0.2))\n",
        "model.add(Dense(16, activation=\"relu\"))\n",
        "\n",
        "model.add(Dense(1, activation=\"sigmoid\"))"
      ]
    },
    {
      "cell_type": "code",
      "source": [
        "model.compile(optimizer=\"adam\", loss=\"binary_crossentropy\", metrics=[\"accuracy\"])"
      ],
      "metadata": {
        "id": "jrwu6b9Ql8dL"
      },
      "id": "jrwu6b9Ql8dL",
      "execution_count": 50,
      "outputs": []
    },
    {
      "cell_type": "code",
      "source": [
        "model.summary()"
      ],
      "metadata": {
        "colab": {
          "base_uri": "https://localhost:8080/"
        },
        "id": "S5pZVa-JqZE-",
        "outputId": "abd86b6c-d5c7-4fe1-fab6-a68f562c9afc"
      },
      "id": "S5pZVa-JqZE-",
      "execution_count": 51,
      "outputs": [
        {
          "output_type": "stream",
          "name": "stdout",
          "text": [
            "Model: \"sequential\"\n",
            "_________________________________________________________________\n",
            " Layer (type)                Output Shape              Param #   \n",
            "=================================================================\n",
            " dense (Dense)               (None, 64)                384       \n",
            "                                                                 \n",
            " dense_1 (Dense)             (None, 32)                2080      \n",
            "                                                                 \n",
            " dropout (Dropout)           (None, 32)                0         \n",
            "                                                                 \n",
            " dense_2 (Dense)             (None, 16)                528       \n",
            "                                                                 \n",
            " dense_3 (Dense)             (None, 1)                 17        \n",
            "                                                                 \n",
            "=================================================================\n",
            "Total params: 3009 (11.75 KB)\n",
            "Trainable params: 3009 (11.75 KB)\n",
            "Non-trainable params: 0 (0.00 Byte)\n",
            "_________________________________________________________________\n"
          ]
        }
      ]
    },
    {
      "cell_type": "markdown",
      "id": "565fa21c",
      "metadata": {
        "id": "565fa21c"
      },
      "source": [
        "### 3.5. Training\n",
        "\n",
        "<p>Let's fit and train our model.</p>"
      ]
    },
    {
      "cell_type": "code",
      "execution_count": 52,
      "id": "a0f55155",
      "metadata": {
        "id": "a0f55155",
        "outputId": "068f658e-3447-430e-d251-529a70182fab",
        "colab": {
          "base_uri": "https://localhost:8080/"
        }
      },
      "outputs": [
        {
          "output_type": "stream",
          "name": "stdout",
          "text": [
            "Epoch 1/16\n",
            "3434/3434 [==============================] - 10s 2ms/step - loss: 0.3166 - accuracy: 0.8685 - val_loss: 0.3003 - val_accuracy: 0.8752\n",
            "Epoch 2/16\n",
            "3434/3434 [==============================] - 8s 2ms/step - loss: 0.3028 - accuracy: 0.8741 - val_loss: 0.2982 - val_accuracy: 0.8766\n",
            "Epoch 3/16\n",
            "3434/3434 [==============================] - 7s 2ms/step - loss: 0.3014 - accuracy: 0.8745 - val_loss: 0.3010 - val_accuracy: 0.8741\n",
            "Epoch 4/16\n",
            "3434/3434 [==============================] - 8s 2ms/step - loss: 0.3007 - accuracy: 0.8750 - val_loss: 0.2980 - val_accuracy: 0.8776\n",
            "Epoch 5/16\n",
            "3434/3434 [==============================] - 7s 2ms/step - loss: 0.3001 - accuracy: 0.8756 - val_loss: 0.2993 - val_accuracy: 0.8756\n",
            "Epoch 6/16\n",
            "3434/3434 [==============================] - 8s 2ms/step - loss: 0.2998 - accuracy: 0.8754 - val_loss: 0.2985 - val_accuracy: 0.8770\n",
            "Epoch 7/16\n",
            "3434/3434 [==============================] - 7s 2ms/step - loss: 0.2998 - accuracy: 0.8759 - val_loss: 0.3002 - val_accuracy: 0.8768\n",
            "Epoch 8/16\n",
            "3434/3434 [==============================] - 8s 2ms/step - loss: 0.2989 - accuracy: 0.8758 - val_loss: 0.2985 - val_accuracy: 0.8772\n",
            "Epoch 9/16\n",
            "3434/3434 [==============================] - 7s 2ms/step - loss: 0.2988 - accuracy: 0.8759 - val_loss: 0.2979 - val_accuracy: 0.8761\n",
            "Epoch 10/16\n",
            "3434/3434 [==============================] - 8s 2ms/step - loss: 0.2988 - accuracy: 0.8761 - val_loss: 0.2978 - val_accuracy: 0.8767\n",
            "Epoch 11/16\n",
            "3434/3434 [==============================] - 7s 2ms/step - loss: 0.2985 - accuracy: 0.8763 - val_loss: 0.2992 - val_accuracy: 0.8766\n",
            "Epoch 12/16\n",
            "3434/3434 [==============================] - 8s 2ms/step - loss: 0.2982 - accuracy: 0.8764 - val_loss: 0.2984 - val_accuracy: 0.8774\n",
            "Epoch 13/16\n",
            "3434/3434 [==============================] - 8s 2ms/step - loss: 0.2980 - accuracy: 0.8762 - val_loss: 0.2982 - val_accuracy: 0.8773\n",
            "Epoch 14/16\n",
            "3434/3434 [==============================] - 7s 2ms/step - loss: 0.2981 - accuracy: 0.8763 - val_loss: 0.2980 - val_accuracy: 0.8775\n",
            "Epoch 15/16\n",
            "3434/3434 [==============================] - 8s 2ms/step - loss: 0.2975 - accuracy: 0.8765 - val_loss: 0.2980 - val_accuracy: 0.8765\n",
            "Epoch 16/16\n",
            "3434/3434 [==============================] - 7s 2ms/step - loss: 0.2975 - accuracy: 0.8765 - val_loss: 0.2980 - val_accuracy: 0.8777\n",
            "\n",
            "Training model for NASA - Nearest Earth Objects data set took 143.5357449054718 seconds.\n"
          ]
        }
      ],
      "source": [
        "start = time.time()\n",
        "\n",
        "model_history = model.fit(X_train, y_train, epochs=epoch, batch_size=batch_size, validation_data=(X_val, y_val))\n",
        "\n",
        "end = time.time()\n",
        "cal_time = end - start\n",
        "print(\"\\nTraining model for NASA - Nearest Earth Objects data set took {} seconds.\".format(cal_time))"
      ]
    },
    {
      "cell_type": "markdown",
      "id": "a213e697",
      "metadata": {
        "id": "a213e697"
      },
      "source": [
        "### 3.6. Show summary and save model\n",
        "\n",
        "<p>Let's save our model for further predictions and see summary of our model.</p>"
      ]
    },
    {
      "cell_type": "code",
      "execution_count": 53,
      "id": "3696a26b",
      "metadata": {
        "id": "3696a26b",
        "outputId": "7b8e0143-66a5-4e74-bbad-245b284b8e61",
        "colab": {
          "base_uri": "https://localhost:8080/"
        },
        "cellView": "form"
      },
      "outputs": [
        {
          "output_type": "stream",
          "name": "stdout",
          "text": [
            "Model saved as 'model_dnn.h5'.\n"
          ]
        }
      ],
      "source": [
        "model.save('model_dnn.h5') # @markdown Run for saving weights.\n",
        "print(\"Model saved as 'model_dnn.h5'.\")"
      ]
    },
    {
      "cell_type": "markdown",
      "id": "af89a2f5",
      "metadata": {
        "id": "af89a2f5"
      },
      "source": [
        "### 3.7. Plot loss and accuracy"
      ]
    },
    {
      "cell_type": "code",
      "source": [
        "print(model_history.history.keys())"
      ],
      "metadata": {
        "colab": {
          "base_uri": "https://localhost:8080/"
        },
        "id": "5P64k0gsqd6W",
        "outputId": "0b32743e-b902-457f-f970-cffd3c61b9a7"
      },
      "id": "5P64k0gsqd6W",
      "execution_count": 54,
      "outputs": [
        {
          "output_type": "stream",
          "name": "stdout",
          "text": [
            "dict_keys(['loss', 'accuracy', 'val_loss', 'val_accuracy'])\n"
          ]
        }
      ]
    },
    {
      "cell_type": "code",
      "source": [
        "def plot_accuracy_loss(training_results):\n",
        "  plt.figure(figsize = (15, 6))\n",
        "  plt.subplot(2, 1, 1)\n",
        "  plt.plot(training_results.history['loss'], 'r')\n",
        "  plt.ylabel('Loss')\n",
        "  plt.title('Training loss iterations')\n",
        "  plt.subplot(2, 1, 2)\n",
        "  plt.plot(training_results.history['accuracy'])\n",
        "  plt.ylabel('Accuracy')\n",
        "  plt.xlabel('Epochs')\n",
        "  plt.show()"
      ],
      "metadata": {
        "id": "Kf942svwqSUk"
      },
      "id": "Kf942svwqSUk",
      "execution_count": 55,
      "outputs": []
    },
    {
      "cell_type": "code",
      "execution_count": 56,
      "id": "cf92b5a7",
      "metadata": {
        "id": "cf92b5a7",
        "outputId": "8a1b9b21-b0b0-4ba0-ea51-bb04af901498",
        "colab": {
          "base_uri": "https://localhost:8080/",
          "height": 564
        }
      },
      "outputs": [
        {
          "output_type": "display_data",
          "data": {
            "text/plain": [
              "<Figure size 1500x600 with 2 Axes>"
            ],
            "image/png": "[encoded data removed]"
          },
          "metadata": {}
        }
      ],
      "source": [
        "plot_accuracy_loss(model_history)"
      ]
    },
    {
      "cell_type": "markdown",
      "id": "61300c87",
      "metadata": {
        "id": "61300c87"
      },
      "source": [
        "### 3.8. System success"
      ]
    },
    {
      "cell_type": "markdown",
      "source": [
        "A confusion matrix is a table used in machine learning and classification tasks to evaluate the performance of a predictive model. It provides a detailed breakdown of the model's predictions compared to the actual outcomes, allowing you to assess the model's accuracy, precision, recall, and other important metrics. A confusion matrix is especially useful in binary classification problems (where there are only two classes), but it can also be extended to multi-class problems."
      ],
      "metadata": {
        "id": "mS00qpAbtZub"
      },
      "id": "mS00qpAbtZub"
    },
    {
      "cell_type": "code",
      "execution_count": 57,
      "id": "6374bdcb",
      "metadata": {
        "id": "6374bdcb",
        "outputId": "7e5ef9af-bfcd-41f7-9862-7452fd529e76",
        "colab": {
          "base_uri": "https://localhost:8080/"
        }
      },
      "outputs": [
        {
          "output_type": "stream",
          "name": "stdout",
          "text": [
            "1396/1396 [==============================] - 2s 1ms/step\n",
            "\n",
            "Confusion Matrix:\n",
            " [[17232  5101]\n",
            " [  326 21988]]\n",
            "\n",
            "Accuracy score: 0.8784464801666405\n"
          ]
        }
      ],
      "source": [
        "y_pred = model.predict(X_test)\n",
        "y_pred = (y_pred > 0.5)\n",
        "\n",
        "from sklearn.metrics import confusion_matrix\n",
        "cm = confusion_matrix(y_test, y_pred)  #  Comparing results\n",
        "print(\"\\nConfusion Matrix:\\n\", cm)\n",
        "\n",
        "from sklearn.metrics import accuracy_score\n",
        "print(f\"\\nAccuracy score: {accuracy_score(y_test, y_pred)}\")"
      ]
    },
    {
      "cell_type": "markdown",
      "source": [
        "**Precision**: The ratio of true positives to the total number of positive predictions TP / (TP + FP). It measures how many of the predicted positive cases were actually positive.\n",
        "    \n",
        "**Recall (Sensitivity or True Positive Rate)**: The ratio of true positives to the total number of actual positive cases TP / (TP + FN). It measures the model's ability to correctly identify all positive cases.\n",
        "    \n",
        "**Specificity (True Negative Rate)**: The ratio of true negatives to the total number of actual negative cases TN / (TN + FP). It measures the model's ability to correctly identify all negative cases.\n",
        "    \n",
        "**F1-Score**: The harmonic mean of precision and recall, which balances the trade-off between precision and recall."
      ],
      "metadata": {
        "id": "0r3_8grCuvxb"
      },
      "id": "0r3_8grCuvxb"
    },
    {
      "cell_type": "code",
      "source": [
        "true_positive = cm[1, 1]\n",
        "false_positive = cm[0, 1]\n",
        "true_negative = cm[0, 0]\n",
        "false_negative = cm[1, 0]\n",
        "\n",
        "precision = true_positive / (true_positive + false_positive)\n",
        "recall = true_positive / (true_positive + false_negative)\n",
        "specificity = true_negative / (true_negative + false_positive)\n",
        "f1 = 2 * (precision * recall) / (precision + recall)"
      ],
      "metadata": {
        "id": "GOSOowWfue96"
      },
      "id": "GOSOowWfue96",
      "execution_count": 58,
      "outputs": []
    },
    {
      "cell_type": "code",
      "source": [
        "print(\"Precision:\", precision)\n",
        "print(\"Recall:\", recall)\n",
        "print(\"Specificity:\", specificity)\n",
        "print(\"F1 Score:\", f1)"
      ],
      "metadata": {
        "colab": {
          "base_uri": "https://localhost:8080/"
        },
        "id": "74w3XrZeugPa",
        "outputId": "6fe06c9f-5a09-4ac5-ba2a-3bacf263a9a1"
      },
      "id": "74w3XrZeugPa",
      "execution_count": 59,
      "outputs": [
        {
          "output_type": "stream",
          "name": "stdout",
          "text": [
            "Precision: 0.8116947838606077\n",
            "Recall: 0.9853903379044546\n",
            "Specificity: 0.7715936058747146\n",
            "F1 Score: 0.8901483715563833\n"
          ]
        }
      ]
    },
    {
      "cell_type": "markdown",
      "source": [
        "<a id=\"conclusion\"></a>\n",
        "\n",
        "<h2 align=center><b>Conclusion</b></h2>\n",
        "\n",
        "The binary classification model trained to predict whether Near-Earth Objects (NEOs) are hazardous or not has yielded promising results. The evaluation metrics reveal the following key insights:\n",
        "\n",
        "-   **Accuracy**: The model achieved an accuracy score of approximately 87.92%, indicating that it correctly classified a significant portion of NEOs.\n",
        "    \n",
        "-   **Precision**: With a precision score of approximately 81.16%, the model demonstrates its ability to identify hazardous NEOs with a relatively low rate of false positives. This is essential for ensuring that resources are appropriately allocated to address potential threats.\n",
        "    \n",
        "-   **Recall**: The recall score, measuring around 98.76%, signifies the model's effectiveness in capturing a vast majority of actual hazardous NEOs. It minimizes the risk of failing to detect dangerous objects.\n",
        "    \n",
        "-   **Specificity**: The specificity score of approximately 77.09% reflects the model's capability to correctly identify non-hazardous NEOs. This is crucial for preventing unnecessary alarm or resource allocation for harmless objects.\n",
        "    \n",
        "-   **F1 Score**: The F1 score, which combines precision and recall, stands at approximately 89.10%. This balanced metric highlights the model's ability to strike a compromise between minimizing false alarms and ensuring high detection rates.\n",
        "\n",
        "<br>\n",
        "\n",
        "In summary, the classification model, leveraging Artificial Neural Networks (ANNs), demonstrates a solid performance in identifying hazardous Near-Earth Objects. Its accuracy, precision, and recall indicate its potential utility in early detection and tracking efforts, contributing to the ongoing mission of safeguarding our planet from potential impacts."
      ],
      "metadata": {
        "id": "iEPp-alcxJqT"
      },
      "id": "iEPp-alcxJqT"
    },
    {
      "cell_type": "code",
      "source": [
        "from datetime import datetime\n",
        "print(f\"Changes have been made to the project on {datetime.now().strftime('%Y-%m-%d %H:%M:%S')}\")"
      ],
      "metadata": {
        "colab": {
          "base_uri": "https://localhost:8080/"
        },
        "id": "sFiviqfJsDpd",
        "outputId": "4e210ab7-313f-45be-961b-e934bfba0756"
      },
      "id": "sFiviqfJsDpd",
      "execution_count": 60,
      "outputs": [
        {
          "output_type": "stream",
          "name": "stdout",
          "text": [
            "Changes have been made to the project on 2024-07-28 03:44:42\n"
          ]
        }
      ]
    }
  ],
  "metadata": {
    "kernelspec": {
      "display_name": "Python 3 (ipykernel)",
      "language": "python",
      "name": "python3"
    },
    "language_info": {
      "codemirror_mode": {
        "name": "ipython",
        "version": 3
      },
      "file_extension": ".py",
      "mimetype": "text/x-python",
      "name": "python",
      "nbconvert_exporter": "python",
      "pygments_lexer": "ipython3",
      "version": "3.9.7"
    },
    "colab": {
      "provenance": []
    }
  },
  "nbformat": 4,
  "nbformat_minor": 5
}